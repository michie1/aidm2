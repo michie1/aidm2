{
 "metadata": {
  "name": "task5"
 },
 "nbformat": 3,
 "nbformat_minor": 0,
 "worksheets": [
  {
   "cells": [
    {
     "cell_type": "code",
     "collapsed": false,
     "input": [
      "import numpy\n",
      "from operator import itemgetter"
     ],
     "language": "python",
     "metadata": {},
     "outputs": [],
     "prompt_number": 101
    },
    {
     "cell_type": "code",
     "collapsed": false,
     "input": [
      "def pr(edges, beta, k):\n",
      "    n = max(map(max, *edges)) + 1 # Amount of nodes\n",
      "    m = numpy.zeros(shape=(n, n))\n",
      "    v = [1.0/n] * n\n",
      "    # From edges to matrix\n",
      "    for i in range(n): # For every column\n",
      "        for j in range(n): # For every row\n",
      "            if (i, j) in edges:\n",
      "                m[j][i] = 1\n",
      "        if sum(m[:, i]) != 0:\n",
      "            m[:, i] = m[:, i] / sum(m[:, i])\n",
      "    pr = numpy.dot(numpy.linalg.matrix_power(m, k), v) # (m^k)v\n",
      "    return [(x, pr[x]) for x in range(n)] # Tuples"
     ],
     "language": "python",
     "metadata": {},
     "outputs": [],
     "prompt_number": 180
    },
    {
     "cell_type": "code",
     "collapsed": false,
     "input": [
      "print pr([(0, 1), (0, 2), (0, 3), (1, 0), (1, 3), (2, 0), (3, 1), (3, 2)], 0.9, 5) # Sheet 4, a = 0, b = 1, etc"
     ],
     "language": "python",
     "metadata": {},
     "outputs": [
      {
       "output_type": "stream",
       "stream": "stdout",
       "text": [
        "[(0, 0.33593749999999994), (1, 0.22135416666666666), (2, 0.22135416666666666), (3, 0.22135416666666663)]\n"
       ]
      }
     ],
     "prompt_number": 181
    },
    {
     "cell_type": "code",
     "collapsed": false,
     "input": [
      "def pr(edges, beta, k):\n",
      "    n = max(map(max, *edges)) + 1 # Amount of nodes\n",
      "    m = numpy.zeros(shape=(n, n))\n",
      "    v = [1.0/n] * n\n",
      "    # From edges to matrix\n",
      "    for i in range(n): # For every column\n",
      "        for j in range(n): # For every row\n",
      "            if (i, j) in edges:\n",
      "                m[j][i] = 1\n",
      "                \n",
      "    # Identifying dead ends\n",
      "    de = []\n",
      "    for c in range(n):\n",
      "        if sum(m[:, c]) == 0:\n",
      "            de.append(c)\n",
      "    #print de\n",
      "    \n",
      "    if not de: # If there are no dead nodes\n",
      "        for i in range(n): # For every column\n",
      "            if sum(m[:, i]) != 0:\n",
      "                m[:, i] = m[:, i] / sum(m[:, i])\n",
      "        pr = numpy.dot(numpy.linalg.matrix_power(m, k), v) # (m^k)v\n",
      "    else: # If there are dead nodes\n",
      "        # New matrix without dead nodes\n",
      "        for z in de:\n",
      "            scc = m\n",
      "            scc = numpy.delete(scc, (2), 0)\n",
      "            scc = numpy.delete(scc, (2), 1)\n",
      "        nscc = len(scc)\n",
      "        vscc = [1.0/nscc] * nscc\n",
      "            \n",
      "        for i in range(nscc): # For every column\n",
      "            if sum(scc[:, i]) != 0:\n",
      "                scc[:, i] = scc[:, i] / sum(scc[:, i])\n",
      "        pr = numpy.dot(numpy.linalg.matrix_power(scc, k), vscc) # (scc^k)vscc\n",
      "        \n",
      "        # Insert zero pagerank for dead nodes\n",
      "        for z in de:\n",
      "           pr = numpy.insert(pr, z, 0)\n",
      "\n",
      "        # Calculate pagerank for dead nodes\n",
      "        for z in de:\n",
      "            y = 0\n",
      "            for x in range(n):\n",
      "                if m[z, x] == 1:\n",
      "                    y += pr[x]/sum(m[:, x])\n",
      "            pr[z] = y\n",
      "\n",
      "    return [(x, pr[x]) for x in range(n)] # Tuples\n",
      "    #m = numpy.dot(numpy.linalg.matrix_power(m, k), v) # (m^k)v\n",
      "    #return [(x, m[x]) for x in range(n)] # Tuples"
     ],
     "language": "python",
     "metadata": {},
     "outputs": [],
     "prompt_number": 194
    },
    {
     "cell_type": "code",
     "collapsed": false,
     "input": [
      "print pr([(0, 1), (0, 2), (0, 3), (1, 0), (1, 3), (3, 1), (3, 2)], 0.9, 10) # page 169"
     ],
     "language": "python",
     "metadata": {},
     "outputs": [
      {
       "output_type": "stream",
       "stream": "stdout",
       "text": [
        "[(0, 0.22233072916666666), (1, 0.44433593749999994), (2, 0.24077690972222221), (3, 0.33333333333333331)]\n"
       ]
      }
     ],
     "prompt_number": 195
    },
    {
     "cell_type": "code",
     "collapsed": false,
     "input": [],
     "language": "python",
     "metadata": {},
     "outputs": [],
     "prompt_number": 113
    },
    {
     "cell_type": "code",
     "collapsed": false,
     "input": [],
     "language": "python",
     "metadata": {},
     "outputs": []
    }
   ],
   "metadata": {}
  }
 ]
}