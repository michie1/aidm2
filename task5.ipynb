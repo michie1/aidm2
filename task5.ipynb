{
 "metadata": {
  "name": "task5"
 },
 "nbformat": 3,
 "nbformat_minor": 0,
 "worksheets": [
  {
   "cells": [
    {
     "cell_type": "code",
     "collapsed": false,
     "input": [
      "import numpy\n",
      "from operator import itemgetter"
     ],
     "language": "python",
     "metadata": {},
     "outputs": [],
     "prompt_number": 3
    },
    {
     "cell_type": "code",
     "collapsed": false,
     "input": [],
     "language": "python",
     "metadata": {},
     "outputs": [],
     "prompt_number": 3
    },
    {
     "cell_type": "code",
     "collapsed": false,
     "input": [
      "def pr(edges, beta, k):\n",
      "    n = max(map(max, *edges)) + 1 # Amount of nodes\n",
      "    m = numpy.zeros(shape=(n, n))\n",
      "    v = [1.0/n] * n\n",
      "    # From edges to matrix\n",
      "    for i in range(n): # For every column\n",
      "        for j in range(n): # For every row\n",
      "            if (i, j) in edges:\n",
      "                m[j][i] = 1\n",
      "        m[:, i] = m[:, i] / sum(m[:, i])\n",
      " \n",
      "    #print m\n",
      "    #print numpy.multiply(numpy.linalg.matrix_power(m, k), v) # Handig voor herhalingen\n",
      "    print numpy.dot(m, numpy.dot(m, numpy.dot(m, numpy.dot(m, numpy.dot(m, v))))) # Dit zou toch [9/24 5/24 5/24 5/24] moeten zijn, zie slide 3 van ADM6_PageRank.pdf"
     ],
     "language": "python",
     "metadata": {},
     "outputs": [],
     "prompt_number": 15
    },
    {
     "cell_type": "code",
     "collapsed": false,
     "input": [
      "print pr([(0, 1), (0, 2), (0, 3), (1, 0), (1, 3), (2, 0), (3, 1), (3, 2)], 0.9, 1) # Sheet 4, a = 0, b = 1, etc"
     ],
     "language": "python",
     "metadata": {},
     "outputs": [
      {
       "output_type": "stream",
       "stream": "stdout",
       "text": [
        "[ 0.3359375   0.22135417  0.22135417  0.22135417]\n",
        "None\n"
       ]
      }
     ],
     "prompt_number": 16
    },
    {
     "cell_type": "code",
     "collapsed": false,
     "input": [],
     "language": "python",
     "metadata": {},
     "outputs": [],
     "prompt_number": 172
    },
    {
     "cell_type": "code",
     "collapsed": false,
     "input": [],
     "language": "python",
     "metadata": {},
     "outputs": []
    }
   ],
   "metadata": {}
  }
 ]
}