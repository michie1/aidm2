{
 "metadata": {
  "name": "task1"
 },
 "nbformat": 3,
 "nbformat_minor": 0,
 "worksheets": [
  {
   "cells": [
    {
     "cell_type": "code",
     "collapsed": false,
     "input": [
      "from math import e, pow\n",
      "def fp(N, n, k):\n",
      "    return pow(1 - pow(e, -k * N / n), k)\n",
      "print fp(pow(10, 9), 8*pow(10, 9), 1) # 0.117503097415\n"
     ],
     "language": "python",
     "metadata": {},
     "outputs": [
      {
       "output_type": "stream",
       "stream": "stdout",
       "text": [
        "0.117503097415\n"
       ]
      }
     ],
     "prompt_number": 6
    },
    {
     "cell_type": "code",
     "collapsed": false,
     "input": [
      "# The previously function failed on the ADM solution submission server\n",
      "# Converting the inputs to floats fixed the problem. Took a while to find out.\n",
      "from math import e, pow\n",
      "def fp(N, n, k):\n",
      "    return pow(1 - pow(e, -float(k) * float(N) / float(n)), float(k))"
     ],
     "language": "python",
     "metadata": {},
     "outputs": [],
     "prompt_number": 5
    }
   ],
   "metadata": {}
  }
 ]
}