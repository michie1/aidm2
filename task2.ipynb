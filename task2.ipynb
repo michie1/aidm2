{
 "metadata": {
  "name": "task2"
 },
 "nbformat": 3,
 "nbformat_minor": 0,
 "worksheets": [
  {
   "cells": [
    {
     "cell_type": "code",
     "collapsed": false,
     "input": [
      "from math import e, pow"
     ],
     "language": "python",
     "metadata": {},
     "outputs": [],
     "prompt_number": 4
    },
    {
     "cell_type": "code",
     "collapsed": false,
     "input": [
      "def fp2(N, n1, k1, n2, k2):\n",
      "    return pow(1 - pow(e, -k1 * N / n1), k1) * pow(1 - pow(e, -k2 * N / n2), k2)\n",
      "\n",
      "fp(pow(10, 8), pow(10, 16), 1)"
     ],
     "language": "python",
     "metadata": {},
     "outputs": [
      {
       "output_type": "pyout",
       "prompt_number": 6,
       "text": [
        "9.99999993922529e-09"
       ]
      }
     ],
     "prompt_number": 6
    },
    {
     "cell_type": "code",
     "collapsed": false,
     "input": [],
     "language": "python",
     "metadata": {},
     "outputs": []
    }
   ],
   "metadata": {}
  }
 ]
}