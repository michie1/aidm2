{
 "metadata": {
  "name": "task4"
 },
 "nbformat": 3,
 "nbformat_minor": 0,
 "worksheets": [
  {
   "cells": [
    {
     "cell_type": "code",
     "collapsed": false,
     "input": [
      "from numpy import mean, ceil, median, reshape, resize\n",
      "\n",
      "#seen = [0]*3\n",
      "k = 3\n",
      "elements = range(3**k)\n",
      "unique = len(elements) # N\n",
      "h = 20 # Amount of hashes\n",
      "R = [0] * h # Maximal tail length, for every hash\n",
      "for el in elements:\n",
      "    for i in range(h):\n",
      "        tailLength = len(bin(hash(str(i) + str(el))).split('1')[-1])\n",
      "        if tailLength > R[i]:\n",
      "            R[i] = tailLength\n",
      "            #print i, bin(hash(str(i) + str(el)))\n",
      "        #if sen[31-tailLength] == 0:\n",
      "        #    seen[31-tailLength] = 1\n",
      "#seen.pop() # Remove last element in seen\n",
      "#print seen\n",
      "#print R\n",
      "estimates = [ 2**x for x in R]\n",
      "#print mean(estimates)\n",
      "groupsize = 5\n",
      "means = [0] * ceil(h / groupsize)\n",
      "for i in range(len(means)):\n",
      "    if i == len(means) - 1:\n",
      "        #print i * groupsize, - 1\n",
      "        means[i] = mean(estimates[i * groupsize:-1])\n",
      "    else:\n",
      "        #print  i * groupsize, (i + 1) * groupsize\n",
      "        means[i] = mean(estimates[i * groupsize:(i + 1) * groupsize])\n",
      "\n",
      "print 'Maximal tail length: ', R\n",
      "print 'Real distinct elements: ', unique\n",
      "print 'Estimated distinct elements with median of means of groups: ', median(means)\n",
      "#print len(estimates)\n",
      "\n",
      "        \n",
      "\n"
     ],
     "language": "python",
     "metadata": {},
     "outputs": [
      {
       "output_type": "stream",
       "stream": "stdout",
       "text": [
        "Maximal tail length:  [5, 5, 9, 4, 4, 4, 8, 4, 4, 4, 5, 4, 6, 7, 6, 7, 5, 5, 5, 4]\n",
        "Real distinct elements:  27\n",
        "Estimated distinct elements with median of means of groups:  62.4\n"
       ]
      }
     ],
     "prompt_number": 137
    },
    {
     "cell_type": "code",
     "collapsed": false,
     "input": [],
     "language": "python",
     "metadata": {},
     "outputs": [
      {
       "output_type": "stream",
       "stream": "stdout",
       "text": [
        "659433583824336311 4814125715081610898\n"
       ]
      }
     ],
     "prompt_number": 56
    },
    {
     "cell_type": "code",
     "collapsed": false,
     "input": [],
     "language": "python",
     "metadata": {},
     "outputs": []
    }
   ],
   "metadata": {}
  }
 ]
}