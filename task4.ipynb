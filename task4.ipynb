{
 "metadata": {
  "name": "task4"
 },
 "nbformat": 3,
 "nbformat_minor": 0,
 "worksheets": [
  {
   "cells": [
    {
     "cell_type": "code",
     "collapsed": false,
     "input": [
      "from numpy import mean, ceil, median, empty\n",
      "\n",
      "def flama(elements, h, hashfunction, groupsize):\n",
      "    unique = len(elements) # N\n",
      "    R = [0] * h # Maximal tail length, for every hash\n",
      "    for el in elements:\n",
      "        for i in range(h):\n",
      "            tailLength = len(bin(hash(hashfunction + str(i) + str(el))).split('1')[-1])\n",
      "            if tailLength > R[i]:\n",
      "                R[i] = tailLength\n",
      "    estimates = [ 2**x for x in R]\n",
      "    means = [0] * ceil(h / groupsize)\n",
      "    for i in range(len(means)):\n",
      "        if i == len(means) - 1:\n",
      "            means[i] = mean(estimates[i * groupsize:-1])\n",
      "        else:\n",
      "            means[i] = mean(estimates[i * groupsize:(i + 1) * groupsize])\n",
      "    \n",
      "    #print 'Maximal tail length: ', R\n",
      "    #print 'Real distinct elements: ', unique\n",
      "    #print 'Estimated distinct elements with median of means of groups: ', median(means)\n",
      "    return abs(unique - median(means))\n",
      "\n",
      "print 'hash_function k amount_of_hashes group_size error'\n",
      "for hf in range(10): # The 10 hash functions are the same except they use a different prefix for the input\n",
      "    for i in range(10):\n",
      "        k = i + 1 # Amount of elements\n",
      "        elements = range(3**k)\n",
      "        for hi, h in enumerate((32, 64, 128)): # Amount of hashes\n",
      "            for gsi, groupsize in enumerate((5, 11, 25)):\n",
      "                error = flama(elements, h, str(hf), groupsize) # Elements, amount of hashes, hash function, group size\n",
      "                print hf, 3**k, h, groupsize, error # I don't know how to make a plot in 5D. I present the data in csv format. "
     ],
     "language": "python",
     "metadata": {},
     "outputs": [
      {
       "output_type": "stream",
       "stream": "stdout",
       "text": [
        "hash_function k amount_of_hashes group_size error\n",
        "0 3 32 5 8.4\n",
        "0 3 32 11 9.71363636364\n",
        "0 3 32 25 10.2903225806\n",
        "0 3 64 5 5.625\n",
        "0 3 64 11 6.63636363636\n",
        "0 3 64 25 8.36526315789\n",
        "0 3 128 5 3.8\n",
        "0 3 128 11 4.64705882353\n",
        "0 3 128 25 4.18518518519\n",
        "0 9 32 5 52.3333333333\n",
        "0 9 32 11 78.8\n",
        "0 9 32 25 83.3870967742\n",
        "0 9 64 5 19.8\n",
        "0 9 64 11 39.0\n",
        "0 9 64 25 55.5557894737\n",
        "0 9 128 5 8.6\n",
        "0 9 128 11 7.94117647059\n",
        "0 9 128 25 8.6\n",
        "0 27 32 5 53.0\n",
        "0"
       ]
      },
      {
       "output_type": "stream",
       "stream": "stdout",
       "text": [
        " 27 32 11 80.6181818182\n",
        "0 27 32 25 82.935483871\n",
        "0 27 64 5 41.0\n",
        "0 27 64 11 57.3636363636\n",
        "0 27 64 25 61.1094736842\n",
        "0 27 128 5 40.2\n",
        "0"
       ]
      },
      {
       "output_type": "stream",
       "stream": "stdout",
       "text": [
        " 27 128 11 57.3636363636\n",
        "0 27 128 25 48.52\n",
        "0 81 32 5 103.0\n",
        "0 81 32 11 97.6181818182\n",
        "0 81 32 25 90.3548387097\n",
        "0"
       ]
      },
      {
       "output_type": "stream",
       "stream": "stdout",
       "text": [
        " 81 64 5 136.6\n",
        "0 81 64 11 125.545454545\n",
        "0 81 64 25 143.631578947\n",
        "0"
       ]
      },
      {
       "output_type": "stream",
       "stream": "stdout",
       "text": [
        " 81 128 5 136.6\n",
        "0 81 128 11 137.181818182\n",
        "0"
       ]
      },
      {
       "output_type": "stream",
       "stream": "stdout",
       "text": [
        " 81 128 25 239.0\n",
        "0 243 32 5 249.8\n",
        "0"
       ]
      },
      {
       "output_type": "stream",
       "stream": "stdout",
       "text": [
        " 243 32 11 306.745454545\n",
        "0 243 32 25 351.064516129\n",
        "0"
       ]
      },
      {
       "output_type": "stream",
       "stream": "stdout",
       "text": [
        " 243 64 5 257.8\n",
        "0"
       ]
      },
      {
       "output_type": "stream",
       "stream": "stdout",
       "text": [
        " 243 64 11 344.636363636\n",
        "0"
       ]
      },
      {
       "output_type": "stream",
       "stream": "stdout",
       "text": [
        " 243 64 25 437.202105263\n",
        "0"
       ]
      },
      {
       "output_type": "stream",
       "stream": "stdout",
       "text": [
        " 243 128 5 371.4\n",
        "0"
       ]
      },
      {
       "output_type": "stream",
       "stream": "stdout",
       "text": [
        " 243 128 11 402.818181818\n",
        "0"
       ]
      },
      {
       "output_type": "stream",
       "stream": "stdout",
       "text": [
        " 243 128 25 454.6\n",
        "0"
       ]
      },
      {
       "output_type": "stream",
       "stream": "stdout",
       "text": [
        " 729 32 5 1933.4\n",
        "0"
       ]
      },
      {
       "output_type": "stream",
       "stream": "stdout",
       "text": [
        " 729 32 11 3118.27272727\n",
        "0"
       ]
      },
      {
       "output_type": "stream",
       "stream": "stdout",
       "text": [
        " 729 32 25 3069.70967742\n",
        "0"
       ]
      },
      {
       "output_type": "stream",
       "stream": "stdout",
       "text": [
        " 729 64 5 883.8\n",
        "0"
       ]
      },
      {
       "output_type": "stream",
       "stream": "stdout",
       "text": [
        " 729 64 11 2273.18181818\n",
        "0"
       ]
      },
      {
       "output_type": "stream",
       "stream": "stdout",
       "text": [
        " 729 64 25 2008.04421053\n",
        "0"
       ]
      },
      {
       "output_type": "stream",
       "stream": "stdout",
       "text": [
        " 729 128 5 1165.4\n",
        "0"
       ]
      },
      {
       "output_type": "stream",
       "stream": "stdout",
       "text": [
        " 729 128 11 1989.11764706\n",
        "0"
       ]
      },
      {
       "output_type": "stream",
       "stream": "stdout",
       "text": [
        " 729 128 25 2261.08\n",
        "0"
       ]
      },
      {
       "output_type": "stream",
       "stream": "stdout",
       "text": [
        " 2187 32 5 2318.6\n",
        "0"
       ]
      },
      {
       "output_type": "stream",
       "stream": "stdout",
       "text": [
        " 2187 32 11 2981.87272727\n",
        "0"
       ]
      },
      {
       "output_type": "stream",
       "stream": "stdout",
       "text": [
        " 2187 32 25 2833.90322581\n",
        "0"
       ]
      },
      {
       "output_type": "stream",
       "stream": "stdout",
       "text": [
        " 2187 64 5 2216.2\n",
        "0"
       ]
      },
      {
       "output_type": "stream",
       "stream": "stdout",
       "text": [
        " 2187 64 11 2374.45454545\n",
        "0"
       ]
      },
      {
       "output_type": "stream",
       "stream": "stdout",
       "text": [
        " 2187 64 25 3071.37473684\n",
        "0"
       ]
      },
      {
       "output_type": "stream",
       "stream": "stdout",
       "text": [
        " 2187 128 5 2421.0\n",
        "0"
       ]
      },
      {
       "output_type": "stream",
       "stream": "stdout",
       "text": [
        " 2187 128 11 3491.54545455\n",
        "0"
       ]
      },
      {
       "output_type": "stream",
       "stream": "stdout",
       "text": [
        " 2187 128 25 2554.12\n",
        "0"
       ]
      },
      {
       "output_type": "stream",
       "stream": "stdout",
       "text": [
        " 6561 32 5 7365.4\n",
        "0"
       ]
      },
      {
       "output_type": "stream",
       "stream": "stdout",
       "text": [
        " 6561 32 11 6920.89090909\n",
        "0"
       ]
      },
      {
       "output_type": "stream",
       "stream": "stdout",
       "text": [
        " 6561 32 25 6618.87096774\n",
        "0"
       ]
      },
      {
       "output_type": "stream",
       "stream": "stdout",
       "text": [
        " 6561 64 5 7979.8\n",
        "0"
       ]
      },
      {
       "output_type": "stream",
       "stream": "stdout",
       "text": [
        " 6561 64 11 7961.18181818\n",
        "0"
       ]
      },
      {
       "output_type": "stream",
       "stream": "stdout",
       "text": [
        " 6561 64 25 7401.50947368\n",
        "0"
       ]
      },
      {
       "output_type": "stream",
       "stream": "stdout",
       "text": [
        " 6561 128 5 10642.2\n",
        "0"
       ]
      },
      {
       "output_type": "stream",
       "stream": "stdout",
       "text": [
        " 6561 128 11 7961.18181818\n",
        "0"
       ]
      },
      {
       "output_type": "stream",
       "stream": "stdout",
       "text": [
        " 6561 128 25 7324.44\n",
        "0"
       ]
      },
      {
       "output_type": "stream",
       "stream": "stdout",
       "text": [
        " 19683 32 5 1616.2\n",
        "0"
       ]
      },
      {
       "output_type": "stream",
       "stream": "stdout",
       "text": [
        " 19683 32 11 13829.7272727\n",
        "0"
       ]
      },
      {
       "output_type": "stream",
       "stream": "stdout",
       "text": [
        " 19683 32 25 17181.0\n",
        "0"
       ]
      },
      {
       "output_type": "stream",
       "stream": "stdout",
       "text": [
        " 19683 64 5 6121.8\n",
        "0"
       ]
      },
      {
       "output_type": "stream",
       "stream": "stdout",
       "text": [
        " 19683 64 11 8616.63636364\n",
        "0"
       ]
      },
      {
       "output_type": "stream",
       "stream": "stdout",
       "text": [
        " 19683 64 25 17000.9915789\n",
        "0"
       ]
      },
      {
       "output_type": "stream",
       "stream": "stdout",
       "text": [
        " 19683 128 5 8169.8\n",
        "0"
       ]
      },
      {
       "output_type": "stream",
       "stream": "stdout",
       "text": [
        " 19683 128 11 15505.3636364\n",
        "0"
       ]
      },
      {
       "output_type": "stream",
       "stream": "stdout",
       "text": [
        " 19683 128 25 22915.4\n",
        "0"
       ]
      },
      {
       "output_type": "stream",
       "stream": "stdout",
       "text": [
        " 59049 32 5 10716.2\n",
        "0"
       ]
      },
      {
       "output_type": "stream",
       "stream": "stdout",
       "text": [
        " 59049 32 11 111959.0\n",
        "0"
       ]
      },
      {
       "output_type": "stream",
       "stream": "stdout",
       "text": [
        " 59049 32 25 149714.870968\n",
        "0"
       ]
      },
      {
       "output_type": "stream",
       "stream": "stdout",
       "text": [
        " 59049 64 5 2391.0\n",
        "0"
       ]
      },
      {
       "output_type": "stream",
       "stream": "stdout",
       "text": [
        " 59049 64 11 188200.454545\n",
        "0"
       ]
      },
      {
       "output_type": "stream",
       "stream": "stdout",
       "text": [
        " 59049 64 25 148135.303158\n",
        "0"
       ]
      },
      {
       "output_type": "stream",
       "stream": "stdout",
       "text": [
        " 59049 128 5 19594.2\n",
        "0"
       ]
      },
      {
       "output_type": "stream",
       "stream": "stdout",
       "text": [
        " 59049 128 11 35531.3636364\n",
        "0"
       ]
      },
      {
       "output_type": "stream",
       "stream": "stdout",
       "text": [
        " 59049 128 25 170630.407407\n",
        "1 3 32 5 9.4\n",
        "1 3 32 11 35.5272727273\n",
        "1 3 32 25 41.6451612903\n",
        "1 3 64 5 5.45\n",
        "1 3 64 11 13.5454545455\n",
        "1 3 64 25 29.1852631579\n",
        "1 3 128 5 4.6\n",
        "1 3 128 11 4.81818181818\n",
        "1 3 128 25 8.6\n",
        "1 9 32 5 53.4\n",
        "1 9 32 11 65.8181818182\n",
        "1 9 32 25 79.5161290323\n",
        "1 9 64 5 15.8\n",
        "1 9 64 11 28.0909090909\n",
        "1 9 64 25 53.3957894737\n",
        "1 9 128 5 13.4\n",
        "1 9 128 11 28.0909090909\n",
        "1 9 128 25 36.3333333333\n",
        "1 27 32 5 46.6\n",
        "1 27 32 11 75.5818181818\n",
        "1"
       ]
      },
      {
       "output_type": "stream",
       "stream": "stdout",
       "text": [
        " 27 32 25 90.1612903226\n",
        "1 27 64 5 49.8\n",
        "1 27 64 11 50.0909090909\n",
        "1 27 64 25 66.9115789474\n",
        "1 27 128 5 43.4\n",
        "1 27 128 11 50.0909090909\n",
        "1"
       ]
      },
      {
       "output_type": "stream",
       "stream": "stdout",
       "text": [
        " 27 128 25 68.36\n",
        "1 81 32 5 79.5333333333\n",
        "1 81 32 11 88.3454545455\n",
        "1 81 32 25 87.2580645161\n",
        "1"
       ]
      },
      {
       "output_type": "stream",
       "stream": "stdout",
       "text": [
        " 81 64 5 106.2\n",
        "1 81 64 11 96.4545454545\n",
        "1 81 64 25 135.581052632\n",
        "1"
       ]
      },
      {
       "output_type": "stream",
       "stream": "stdout",
       "text": [
        " 81 128 5 114.2\n",
        "1 81 128 11 191.0\n",
        "1"
       ]
      },
      {
       "output_type": "stream",
       "stream": "stdout",
       "text": [
        " 81 128 25 144.28\n",
        "1 243 32 5 294.6\n",
        "1"
       ]
      },
      {
       "output_type": "stream",
       "stream": "stdout",
       "text": [
        " 243 32 11 307.181818182\n",
        "1 243 32 25 321.64516129\n",
        "1"
       ]
      },
      {
       "output_type": "stream",
       "stream": "stdout",
       "text": [
        " 243 64 5 185.8\n",
        "1"
       ]
      },
      {
       "output_type": "stream",
       "stream": "stdout",
       "text": [
        " 243 64 11 443.545454545\n",
        "1"
       ]
      },
      {
       "output_type": "stream",
       "stream": "stdout",
       "text": [
        " 243 64 25 1140.05684211\n",
        "1"
       ]
      },
      {
       "output_type": "stream",
       "stream": "stdout",
       "text": [
        " 243 128 5 217.8\n",
        "1"
       ]
      },
      {
       "output_type": "stream",
       "stream": "stdout",
       "text": [
        " 243 128 11 449.363636364\n",
        "1"
       ]
      },
      {
       "output_type": "stream",
       "stream": "stdout",
       "text": [
        " 243 128 25 1724.36\n",
        "1"
       ]
      },
      {
       "output_type": "stream",
       "stream": "stdout",
       "text": [
        " 729 32 5 1173.93333333\n",
        "1"
       ]
      },
      {
       "output_type": "stream",
       "stream": "stdout",
       "text": [
        " 729 32 11 3665.47272727\n",
        "1"
       ]
      },
      {
       "output_type": "stream",
       "stream": "stdout",
       "text": [
        " 729 32 25 2846.74193548\n",
        "1"
       ]
      },
      {
       "output_type": "stream",
       "stream": "stdout",
       "text": [
        " 729 64 5 832.6\n",
        "1"
       ]
      },
      {
       "output_type": "stream",
       "stream": "stdout",
       "text": [
        " 729 64 11 923.363636364\n",
        "1"
       ]
      },
      {
       "output_type": "stream",
       "stream": "stdout",
       "text": [
        " 729 64 25 2884.44\n",
        "1"
       ]
      },
      {
       "output_type": "stream",
       "stream": "stdout",
       "text": [
        " 729 128 5 832.6\n",
        "1"
       ]
      },
      {
       "output_type": "stream",
       "stream": "stdout",
       "text": [
        " 729 128 11 923.363636364\n",
        "1"
       ]
      },
      {
       "output_type": "stream",
       "stream": "stdout",
       "text": [
        " 729 128 25 3157.08\n",
        "1"
       ]
      },
      {
       "output_type": "stream",
       "stream": "stdout",
       "text": [
        " 2187 32 5 680.2\n",
        "1"
       ]
      },
      {
       "output_type": "stream",
       "stream": "stdout",
       "text": [
        " 2187 32 11 3961.65454545\n",
        "1"
       ]
      },
      {
       "output_type": "stream",
       "stream": "stdout",
       "text": [
        " 2187 32 25 3544.09677419\n",
        "1"
       ]
      },
      {
       "output_type": "stream",
       "stream": "stdout",
       "text": [
        " 2187 64 5 885.0\n",
        "1"
       ]
      },
      {
       "output_type": "stream",
       "stream": "stdout",
       "text": [
        " 2187 64 11 3584.63636364\n",
        "1"
       ]
      },
      {
       "output_type": "stream",
       "stream": "stdout",
       "text": [
        " 2187 64 25 4957.01684211\n",
        "1"
       ]
      },
      {
       "output_type": "stream",
       "stream": "stdout",
       "text": [
        " 2187 128 5 1294.6\n",
        "1"
       ]
      },
      {
       "output_type": "stream",
       "stream": "stdout",
       "text": [
        " 2187 128 11 3305.36363636\n",
        "1"
       ]
      },
      {
       "output_type": "stream",
       "stream": "stdout",
       "text": [
        " 2187 128 25 3895.56\n",
        "1"
       ]
      },
      {
       "output_type": "stream",
       "stream": "stdout",
       "text": [
        " 6561 32 5 1750.46666667\n",
        "1"
       ]
      },
      {
       "output_type": "stream",
       "stream": "stdout",
       "text": [
        " 6561 32 11 7400.30909091\n",
        "1"
       ]
      },
      {
       "output_type": "stream",
       "stream": "stdout",
       "text": [
        " 6561 32 25 6156.41935484\n",
        "1"
       ]
      },
      {
       "output_type": "stream",
       "stream": "stdout",
       "text": [
        " 6561 64 5 7570.2\n",
        "1"
       ]
      },
      {
       "output_type": "stream",
       "stream": "stdout",
       "text": [
        " 6561 64 11 6564.81818182\n",
        "1"
       ]
      },
      {
       "output_type": "stream",
       "stream": "stdout",
       "text": [
        " 6561 64 25 37050.0821053\n",
        "1"
       ]
      },
      {
       "output_type": "stream",
       "stream": "stdout",
       "text": [
        " 6561 128 5 4907.8\n",
        "1"
       ]
      },
      {
       "output_type": "stream",
       "stream": "stdout",
       "text": [
        " 6561 128 11 9078.27272727\n",
        "1"
       ]
      },
      {
       "output_type": "stream",
       "stream": "stdout",
       "text": [
        " 6561 128 25 13714.2\n",
        "1"
       ]
      },
      {
       "output_type": "stream",
       "stream": "stdout",
       "text": [
        " 19683 32 5 18000.2\n",
        "1"
       ]
      },
      {
       "output_type": "stream",
       "stream": "stdout",
       "text": [
        " 19683 32 11 23618.2363636\n",
        "1"
       ]
      },
      {
       "output_type": "stream",
       "stream": "stdout",
       "text": [
        " 19683 32 25 24514.1612903\n",
        "1"
       ]
      },
      {
       "output_type": "stream",
       "stream": "stdout",
       "text": [
        " 19683 64 5 23734.6\n",
        "1"
       ]
      },
      {
       "output_type": "stream",
       "stream": "stdout",
       "text": [
        " 19683 64 11 20532.2727273\n",
        "1"
       ]
      },
      {
       "output_type": "stream",
       "stream": "stdout",
       "text": [
        " 19683 64 25 48038.9705263\n",
        "1"
       ]
      },
      {
       "output_type": "stream",
       "stream": "stdout",
       "text": [
        " 19683 128 5 26192.2\n",
        "1"
       ]
      },
      {
       "output_type": "stream",
       "stream": "stdout",
       "text": [
        " 19683 128 11 51438.4545455\n",
        "1"
       ]
      },
      {
       "output_type": "stream",
       "stream": "stdout",
       "text": [
        " 19683 128 25 58444.4074074\n",
        "1"
       ]
      },
      {
       "output_type": "stream",
       "stream": "stdout",
       "text": [
        " 59049 32 5 74480.6\n",
        "1"
       ]
      },
      {
       "output_type": "stream",
       "stream": "stdout",
       "text": [
        " 59049 32 11 57817.3272727\n",
        "1"
       ]
      },
      {
       "output_type": "stream",
       "stream": "stdout",
       "text": [
        " 59049 32 25 69908.9354839\n",
        "1"
       ]
      },
      {
       "output_type": "stream",
       "stream": "stdout",
       "text": [
        " 59049 64 5 44989.4\n",
        "1"
       ]
      },
      {
       "output_type": "stream",
       "stream": "stdout",
       "text": [
        " 59049 64 11 88407.0\n",
        "1"
       ]
      },
      {
       "output_type": "stream",
       "stream": "stdout",
       "text": [
        " 59049 64 25 73885.6021053\n",
        "1"
       ]
      },
      {
       "output_type": "stream",
       "stream": "stdout",
       "text": [
        " 59049 128 5 75299.8\n",
        "1"
       ]
      },
      {
       "output_type": "stream",
       "stream": "stdout",
       "text": [
        " 59049 128 11 88407.0\n",
        "1"
       ]
      },
      {
       "output_type": "stream",
       "stream": "stdout",
       "text": [
        " 59049 128 25 197330.259259\n",
        "2 3 32 5 6.0\n",
        "2 3 32 11 6.61363636364\n",
        "2 3 32 25 6.29032258065\n",
        "2 3 64 5 6.0\n",
        "2 3 64 11 7.72727272727\n",
        "2 3 64 25 6.90947368421\n",
        "2 3 128 5 6.6\n",
        "2 3 128 11 9.18181818182\n",
        "2 3 128 25 10.12\n",
        "2 9 32 5 10.2\n",
        "2 9 32 11 31.1454545455\n",
        "2 9 32 25 25.064516129\n",
        "2 9 64 5 12.6\n",
        "2 9 64 11 12.0909090909\n",
        "2 9 64 25 29.4547368421\n",
        "2 9 128 5 24.6\n",
        "2"
       ]
      },
      {
       "output_type": "stream",
       "stream": "stdout",
       "text": [
        " 9 128 11 34.7647058824\n",
        "2 9 128 25 43.48\n",
        "2 27 32 5 39.0\n",
        "2 27 32 11 76.4181818182\n",
        "2 27 32 25 61.2580645161\n",
        "2 27 64 5 30.6\n",
        "2 27 64 11 43.7368421053\n",
        "2 27 64 25 60.9284210526\n",
        "2"
       ]
      },
      {
       "output_type": "stream",
       "stream": "stdout",
       "text": [
        " 27 128 5 48.2\n",
        "2 27 128 11 53.0\n",
        "2 27 128 25 59.2222222222\n",
        "2 81 32 5 91.8\n",
        "2 81 32 11 145.0\n",
        "2"
       ]
      },
      {
       "output_type": "stream",
       "stream": "stdout",
       "text": [
        " 81 32 25 145.580645161\n",
        "2 81 64 5 69.4\n",
        "2 81 64 11 125.545454545\n",
        "2"
       ]
      },
      {
       "output_type": "stream",
       "stream": "stdout",
       "text": [
        " 81 64 25 129.492631579\n",
        "2 81 128 5 66.2\n",
        "2"
       ]
      },
      {
       "output_type": "stream",
       "stream": "stdout",
       "text": [
        " 81 128 11 125.545454545\n",
        "2 81 128 25 96.7777777778\n",
        "2"
       ]
      },
      {
       "output_type": "stream",
       "stream": "stdout",
       "text": [
        " 243 32 5 162.333333333\n",
        "2 243 32 11 517.509090909\n",
        "2"
       ]
      },
      {
       "output_type": "stream",
       "stream": "stdout",
       "text": [
        " 243 32 25 643.709677419\n",
        "2"
       ]
      },
      {
       "output_type": "stream",
       "stream": "stdout",
       "text": [
        " 243 64 5 89.8\n",
        "2"
       ]
      },
      {
       "output_type": "stream",
       "stream": "stdout",
       "text": [
        " 243 64 11 193.363636364\n",
        "2"
       ]
      },
      {
       "output_type": "stream",
       "stream": "stdout",
       "text": [
        " 243 64 25 501.875789474\n",
        "2"
       ]
      },
      {
       "output_type": "stream",
       "stream": "stdout",
       "text": [
        " 243 128 5 217.8\n",
        "2"
       ]
      },
      {
       "output_type": "stream",
       "stream": "stdout",
       "text": [
        " 243 128 11 373.727272727\n",
        "2"
       ]
      },
      {
       "output_type": "stream",
       "stream": "stdout",
       "text": [
        " 243 128 25 754.12\n",
        "2"
       ]
      },
      {
       "output_type": "stream",
       "stream": "stdout",
       "text": [
        " 729 32 5 551.0\n",
        "2"
       ]
      },
      {
       "output_type": "stream",
       "stream": "stdout",
       "text": [
        " 729 32 11 2474.49090909\n",
        "2"
       ]
      },
      {
       "output_type": "stream",
       "stream": "stdout",
       "text": [
        " 729 32 25 3053.19354839\n",
        "2"
       ]
      },
      {
       "output_type": "stream",
       "stream": "stdout",
       "text": [
        " 729 64 5 631.0\n",
        "2"
       ]
      },
      {
       "output_type": "stream",
       "stream": "stdout",
       "text": [
        " 729 64 11 1377.18181818\n",
        "2"
       ]
      },
      {
       "output_type": "stream",
       "stream": "stdout",
       "text": [
        " 729 64 25 2532.64210526\n",
        "2"
       ]
      },
      {
       "output_type": "stream",
       "stream": "stdout",
       "text": [
        " 729 128 5 909.4\n",
        "2"
       ]
      },
      {
       "output_type": "stream",
       "stream": "stdout",
       "text": [
        " 729 128 11 911.727272727\n",
        "2"
       ]
      },
      {
       "output_type": "stream",
       "stream": "stdout",
       "text": [
        " 729 128 25 2480.48148148\n",
        "2"
       ]
      },
      {
       "output_type": "stream",
       "stream": "stdout",
       "text": [
        " 2187 32 5 4008.2\n",
        "2"
       ]
      },
      {
       "output_type": "stream",
       "stream": "stdout",
       "text": [
        " 2187 32 11 6036.41818182\n",
        "2"
       ]
      },
      {
       "output_type": "stream",
       "stream": "stdout",
       "text": [
        " 2187 32 25 6079.32258065\n",
        "2"
       ]
      },
      {
       "output_type": "stream",
       "stream": "stdout",
       "text": [
        " 2187 64 5 1889.8\n",
        "2"
       ]
      },
      {
       "output_type": "stream",
       "stream": "stdout",
       "text": [
        " 2187 64 11 5888.63636364\n",
        "2"
       ]
      },
      {
       "output_type": "stream",
       "stream": "stdout",
       "text": [
        " 2187 64 25 5389.52210526\n",
        "2"
       ]
      },
      {
       "output_type": "stream",
       "stream": "stdout",
       "text": [
        " 2187 128 5 2216.2\n",
        "2"
       ]
      },
      {
       "output_type": "stream",
       "stream": "stdout",
       "text": [
        " 2187 128 11 2793.36363636\n",
        "2"
       ]
      },
      {
       "output_type": "stream",
       "stream": "stdout",
       "text": [
        " 2187 128 25 7428.36\n",
        "2"
       ]
      },
      {
       "output_type": "stream",
       "stream": "stdout",
       "text": [
        " 6561 32 5 10027.8\n",
        "2"
       ]
      },
      {
       "output_type": "stream",
       "stream": "stdout",
       "text": [
        " 6561 32 11 11126.2727273\n",
        "2"
       ]
      },
      {
       "output_type": "stream",
       "stream": "stdout",
       "text": [
        " 6561 32 25 11937.0645161\n",
        "2"
       ]
      },
      {
       "output_type": "stream",
       "stream": "stdout",
       "text": [
        " 6561 64 5 7979.8\n",
        "2"
       ]
      },
      {
       "output_type": "stream",
       "stream": "stdout",
       "text": [
        " 6561 64 11 8892.09090909\n",
        "2"
       ]
      },
      {
       "output_type": "stream",
       "stream": "stdout",
       "text": [
        " 6561 64 25 12683.7326316\n",
        "2"
       ]
      },
      {
       "output_type": "stream",
       "stream": "stdout",
       "text": [
        " 6561 128 5 5141.85714286\n",
        "2"
       ]
      },
      {
       "output_type": "stream",
       "stream": "stdout",
       "text": [
        " 6561 128 11 8892.09090909\n",
        "2"
       ]
      },
      {
       "output_type": "stream",
       "stream": "stdout",
       "text": [
        " 6561 128 25 14574.36\n",
        "2"
       ]
      },
      {
       "output_type": "stream",
       "stream": "stdout",
       "text": [
        " 19683 32 5 29264.2\n",
        "2"
       ]
      },
      {
       "output_type": "stream",
       "stream": "stdout",
       "text": [
        " 19683 32 11 410936.927273\n",
        "2"
       ]
      },
      {
       "output_type": "stream",
       "stream": "stdout",
       "text": [
        " 19683 32 25 297096.354839\n",
        "2"
       ]
      },
      {
       "output_type": "stream",
       "stream": "stdout",
       "text": [
        " 19683 64 5 17795.4\n",
        "2"
       ]
      },
      {
       "output_type": "stream",
       "stream": "stdout",
       "text": [
        " 19683 64 11 34682.0909091\n",
        "2"
       ]
      },
      {
       "output_type": "stream",
       "stream": "stdout",
       "text": [
        " 19683 64 25 194555.046316\n",
        "2"
       ]
      },
      {
       "output_type": "stream",
       "stream": "stdout",
       "text": [
        " 19683 128 5 42576.2\n",
        "2"
       ]
      },
      {
       "output_type": "stream",
       "stream": "stdout",
       "text": [
        " 19683 128 11 38142.8823529\n",
        "2"
       ]
      },
      {
       "output_type": "stream",
       "stream": "stdout",
       "text": [
        " 19683 128 25 75016.52\n",
        "2"
       ]
      },
      {
       "output_type": "stream",
       "stream": "stdout",
       "text": [
        " 59049 32 5 67107.8\n",
        "2"
       ]
      },
      {
       "output_type": "stream",
       "stream": "stdout",
       "text": [
        " 59049 32 11 451833.909091\n",
        "2"
       ]
      },
      {
       "output_type": "stream",
       "stream": "stdout",
       "text": [
        " 59049 32 25 332052.935484\n",
        "2"
       ]
      },
      {
       "output_type": "stream",
       "stream": "stdout",
       "text": [
        " 59049 64 5 42531.8\n",
        "2"
       ]
      },
      {
       "output_type": "stream",
       "stream": "stdout",
       "text": [
        " 59049 64 11 48191.7272727\n",
        "2"
       ]
      },
      {
       "output_type": "stream",
       "stream": "stdout",
       "text": [
        " 59049 64 25 217689.694737\n",
        "2"
       ]
      },
      {
       "output_type": "stream",
       "stream": "stdout",
       "text": [
        " 59049 128 5 60554.2\n",
        "2"
       ]
      },
      {
       "output_type": "stream",
       "stream": "stdout",
       "text": [
        " 59049 128 11 65320.4545455\n",
        "2"
       ]
      },
      {
       "output_type": "stream",
       "stream": "stdout",
       "text": [
        " 59049 128 25 259832.185185\n",
        "3 3 32 5 3.6\n",
        "3 3 32 11 3.48181818182\n",
        "3 3 32 25 3.51612903226\n",
        "3 3 64 5 3.8\n",
        "3 3 64 11 4.81818181818\n",
        "3 3 64 25 8.25368421053\n",
        "3 3 128 5 3.8\n",
        "3 3 128 11 5.0\n",
        "3 3 128 25 5.08\n",
        "3 9 32 5 4.73333333333\n",
        "3 9 32 11 7.16363636364\n",
        "3 9 32 25 7.0\n",
        "3 9 64 5 8.6\n",
        "3 9 64 11 7.72727272727\n",
        "3 9 64 25 15.5810526316\n",
        "3 9 128 5 10.2\n",
        "3 9 128 11 8.45454545455\n",
        "3 9 128 25 7.96\n",
        "3 27 32 5 9.8\n",
        "3"
       ]
      },
      {
       "output_type": "stream",
       "stream": "stdout",
       "text": [
        " 27 32 11 246.145454545\n",
        "3 27 32 25 177.64516129\n",
        "3 27 64 5 19.4\n",
        "3 27 64 11 48.6363636364\n",
        "3 27 64 25 129.387368421\n",
        "3 27 128 5 27.4\n",
        "3"
       ]
      },
      {
       "output_type": "stream",
       "stream": "stdout",
       "text": [
        " 27 128 11 41.2352941176\n",
        "3 27 128 25 67.08\n",
        "3 81 32 5 10.2\n",
        "3 81 32 11 226.090909091\n",
        "3 81 32 25 163.64516129\n",
        "3"
       ]
      },
      {
       "output_type": "stream",
       "stream": "stdout",
       "text": [
        " 81 64 5 77.4\n",
        "3 81 64 11 89.1818181818\n",
        "3 81 64 25 1427.21052632\n",
        "3"
       ]
      },
      {
       "output_type": "stream",
       "stream": "stdout",
       "text": [
        " 81 128 5 47.0\n",
        "3 81 128 11 89.1818181818\n",
        "3"
       ]
      },
      {
       "output_type": "stream",
       "stream": "stdout",
       "text": [
        " 81 128 25 164.12\n",
        "3 243 32 5 192.2\n",
        "3"
       ]
      },
      {
       "output_type": "stream",
       "stream": "stdout",
       "text": [
        " 243 32 11 1810.23636364\n",
        "3 243 32 25 1354.41935484\n",
        "3"
       ]
      },
      {
       "output_type": "stream",
       "stream": "stdout",
       "text": [
        " 243 64 5 147.4\n",
        "3"
       ]
      },
      {
       "output_type": "stream",
       "stream": "stdout",
       "text": [
        " 243 64 11 231.181818182\n",
        "3"
       ]
      },
      {
       "output_type": "stream",
       "stream": "stdout",
       "text": [
        " 243 64 25 2181.74105263\n",
        "3"
       ]
      },
      {
       "output_type": "stream",
       "stream": "stdout",
       "text": [
        " 243 128 5 217.8\n",
        "3"
       ]
      },
      {
       "output_type": "stream",
       "stream": "stdout",
       "text": [
        " 243 128 11 338.818181818\n",
        "3"
       ]
      },
      {
       "output_type": "stream",
       "stream": "stdout",
       "text": [
        " 243 128 25 1437.64\n",
        "3"
       ]
      },
      {
       "output_type": "stream",
       "stream": "stdout",
       "text": [
        " 729 32 5 1229.4\n",
        "3"
       ]
      },
      {
       "output_type": "stream",
       "stream": "stdout",
       "text": [
        " 729 32 11 3721.32727273\n",
        "3"
       ]
      },
      {
       "output_type": "stream",
       "stream": "stdout",
       "text": [
        " 729 32 25 2983.0\n",
        "3"
       ]
      },
      {
       "output_type": "stream",
       "stream": "stdout",
       "text": [
        " 729 64 5 1229.4\n",
        "3"
       ]
      },
      {
       "output_type": "stream",
       "stream": "stdout",
       "text": [
        " 729 64 11 2703.72727273\n",
        "3"
       ]
      },
      {
       "output_type": "stream",
       "stream": "stdout",
       "text": [
        " 729 64 25 3530.09894737\n",
        "3"
       ]
      },
      {
       "output_type": "stream",
       "stream": "stdout",
       "text": [
        " 729 128 5 1421.4\n",
        "3"
       ]
      },
      {
       "output_type": "stream",
       "stream": "stdout",
       "text": [
        " 729 128 11 2703.72727273\n",
        "3"
       ]
      },
      {
       "output_type": "stream",
       "stream": "stdout",
       "text": [
        " 729 128 25 3582.04\n",
        "3"
       ]
      },
      {
       "output_type": "stream",
       "stream": "stdout",
       "text": [
        " 2187 32 5 2421.0\n",
        "3"
       ]
      },
      {
       "output_type": "stream",
       "stream": "stdout",
       "text": [
        " 2187 32 11 16518.4545455\n",
        "3"
       ]
      },
      {
       "output_type": "stream",
       "stream": "stdout",
       "text": [
        " 2187 32 25 19746.4193548\n",
        "3"
       ]
      },
      {
       "output_type": "stream",
       "stream": "stdout",
       "text": [
        " 2187 64 5 4110.6\n",
        "3"
       ]
      },
      {
       "output_type": "stream",
       "stream": "stdout",
       "text": [
        " 2187 64 11 5399.90909091\n",
        "3"
       ]
      },
      {
       "output_type": "stream",
       "stream": "stdout",
       "text": [
        " 2187 64 25 15042.3389474\n",
        "3"
       ]
      },
      {
       "output_type": "stream",
       "stream": "stdout",
       "text": [
        " 2187 128 5 5288.2\n",
        "3"
       ]
      },
      {
       "output_type": "stream",
       "stream": "stdout",
       "text": [
        " 2187 128 11 5523.11764706\n",
        "3"
       ]
      },
      {
       "output_type": "stream",
       "stream": "stdout",
       "text": [
        " 2187 128 25 23904.52\n",
        "3"
       ]
      },
      {
       "output_type": "stream",
       "stream": "stdout",
       "text": [
        " 6561 32 5 3883.8\n",
        "3"
       ]
      },
      {
       "output_type": "stream",
       "stream": "stdout",
       "text": [
        " 6561 32 11 16129.9090909\n",
        "3"
       ]
      },
      {
       "output_type": "stream",
       "stream": "stdout",
       "text": [
        " 6561 32 25 19798.7419355\n",
        "3"
       ]
      },
      {
       "output_type": "stream",
       "stream": "stdout",
       "text": [
        " 6561 64 5 5317.4\n",
        "3"
       ]
      },
      {
       "output_type": "stream",
       "stream": "stdout",
       "text": [
        " 6561 64 11 7020.47368421\n",
        "3"
       ]
      },
      {
       "output_type": "stream",
       "stream": "stdout",
       "text": [
        " 6561 64 25 17071.8421053\n",
        "3"
       ]
      },
      {
       "output_type": "stream",
       "stream": "stdout",
       "text": [
        " 6561 128 5 6136.6\n",
        "3"
       ]
      },
      {
       "output_type": "stream",
       "stream": "stdout",
       "text": [
        " 6561 128 11 10567.7272727\n",
        "3"
       ]
      },
      {
       "output_type": "stream",
       "stream": "stdout",
       "text": [
        " 6561 128 25 24159.0\n",
        "3"
       ]
      },
      {
       "output_type": "stream",
       "stream": "stdout",
       "text": [
        " 19683 32 5 22096.2\n",
        "3"
       ]
      },
      {
       "output_type": "stream",
       "stream": "stdout",
       "text": [
        " 19683 32 11 1544635.25455\n",
        "3"
       ]
      },
      {
       "output_type": "stream",
       "stream": "stdout",
       "text": [
        " 19683 32 25 1107245.51613\n",
        "3"
       ]
      },
      {
       "output_type": "stream",
       "stream": "stdout",
       "text": [
        " 19683 64 5 16003.4\n",
        "3"
       ]
      },
      {
       "output_type": "stream",
       "stream": "stdout",
       "text": [
        " 19683 64 11 14594.0526316\n",
        "3"
       ]
      },
      {
       "output_type": "stream",
       "stream": "stdout",
       "text": [
        " 19683 64 25 692182.397895\n",
        "3"
       ]
      },
      {
       "output_type": "stream",
       "stream": "stdout",
       "text": [
        " 19683 128 5 22096.2\n",
        "3"
       ]
      },
      {
       "output_type": "stream",
       "stream": "stdout",
       "text": [
        " 19683 128 11 22394.0909091\n",
        "3"
       ]
      },
      {
       "output_type": "stream",
       "stream": "stdout",
       "text": [
        " 19683 128 25 56168.8518519\n",
        "3"
       ]
      },
      {
       "output_type": "stream",
       "stream": "stdout",
       "text": [
        " 59049 32 5 80215.0\n",
        "3"
       ]
      },
      {
       "output_type": "stream",
       "stream": "stdout",
       "text": [
        " 59049 32 11 1571717.54545\n",
        "3"
       ]
      },
      {
       "output_type": "stream",
       "stream": "stdout",
       "text": [
        " 59049 32 25 1142268.16129\n",
        "3"
       ]
      },
      {
       "output_type": "stream",
       "stream": "stdout",
       "text": [
        " 59049 64 5 42531.8\n",
        "3"
       ]
      },
      {
       "output_type": "stream",
       "stream": "stdout",
       "text": [
        " 59049 64 11 92875.3636364\n",
        "3"
       ]
      },
      {
       "output_type": "stream",
       "stream": "stdout",
       "text": [
        " 59049 64 25 733919.353684\n",
        "3"
       ]
      },
      {
       "output_type": "stream",
       "stream": "stdout",
       "text": [
        " 59049 128 5 49085.4\n",
        "3"
       ]
      },
      {
       "output_type": "stream",
       "stream": "stdout",
       "text": [
        " 59049 128 11 92875.3636364\n",
        "3"
       ]
      },
      {
       "output_type": "stream",
       "stream": "stdout",
       "text": [
        " 59049 128 25 122485.72\n",
        "4 3 32 5 3.8\n",
        "4 3 32 11 10.0318181818\n",
        "4 3 32 25 11.9677419355\n",
        "4 3 64 5 3.8\n",
        "4 3 64 11 3.94736842105\n",
        "4 3 64 25 7.54210526316\n",
        "4 3 128 5 4.42857142857\n",
        "4 3 128 11 4.27272727273\n",
        "4 3 128 25 4.84\n",
        "4 9 32 5 11.8\n",
        "4 9 32 11 49.3272727273\n",
        "4 9 32 25 56.5483870968\n",
        "4 9 64 5 8.6\n",
        "4 9 64 11 13.5454545455\n",
        "4 9 64 25 29.1684210526\n",
        "4 9 128 5 10.2\n",
        "4 9 128 11 12.8181818182\n",
        "4 9 128 25 16.6\n",
        "4 27 32 5 49.8\n",
        "4 27 32 11 145.654545455\n",
        "4"
       ]
      },
      {
       "output_type": "stream",
       "stream": "stdout",
       "text": [
        " 27 32 25 127.580645161\n",
        "4 27 64 5 25.0\n",
        "4 27 64 11 29.7272727273\n",
        "4 27 64 25 75.2736842105\n",
        "4 27 128 5 22.6\n",
        "4 27 128 11 21.0\n",
        "4"
       ]
      },
      {
       "output_type": "stream",
       "stream": "stdout",
       "text": [
        " 27 128 25 93.32\n",
        "4 81 32 5 34.2\n",
        "4 81 32 11 119.872727273\n",
        "4 81 32 25 99.6451612903\n",
        "4"
       ]
      },
      {
       "output_type": "stream",
       "stream": "stdout",
       "text": [
        " 81 64 5 34.2\n",
        "4 81 64 11 84.8181818182\n",
        "4 81 64 25 91.3284210526\n",
        "4"
       ]
      },
      {
       "output_type": "stream",
       "stream": "stdout",
       "text": [
        " 81 128 5 66.2\n",
        "4 81 128 11 97.8235294118\n",
        "4"
       ]
      },
      {
       "output_type": "stream",
       "stream": "stdout",
       "text": [
        " 81 128 25 135.888888889\n",
        "4 243 32 5 461.0\n",
        "4"
       ]
      },
      {
       "output_type": "stream",
       "stream": "stdout",
       "text": [
        " 243 32 11 436.854545455\n",
        "4 243 32 25 461.516129032\n",
        "4"
       ]
      },
      {
       "output_type": "stream",
       "stream": "stdout",
       "text": [
        " 243 64 5 352.2\n",
        "4"
       ]
      },
      {
       "output_type": "stream",
       "stream": "stdout",
       "text": [
        " 243 64 11 367.909090909\n",
        "4"
       ]
      },
      {
       "output_type": "stream",
       "stream": "stdout",
       "text": [
        " 243 64 25 351.189473684\n",
        "4"
       ]
      },
      {
       "output_type": "stream",
       "stream": "stdout",
       "text": [
        " 243 128 5 269.0\n",
        "4"
       ]
      },
      {
       "output_type": "stream",
       "stream": "stdout",
       "text": [
        " 243 128 11 330.090909091\n",
        "4"
       ]
      },
      {
       "output_type": "stream",
       "stream": "stdout",
       "text": [
        " 243 128 25 306.925925926\n",
        "4"
       ]
      },
      {
       "output_type": "stream",
       "stream": "stdout",
       "text": [
        " 729 32 5 333.4\n",
        "4"
       ]
      },
      {
       "output_type": "stream",
       "stream": "stdout",
       "text": [
        " 729 32 11 677.545454545\n",
        "4"
       ]
      },
      {
       "output_type": "stream",
       "stream": "stdout",
       "text": [
        " 729 32 25 798.741935484\n",
        "4"
       ]
      },
      {
       "output_type": "stream",
       "stream": "stdout",
       "text": [
        " 729 64 5 359.0\n",
        "4"
       ]
      },
      {
       "output_type": "stream",
       "stream": "stdout",
       "text": [
        " 729 64 11 504.454545455\n",
        "4"
       ]
      },
      {
       "output_type": "stream",
       "stream": "stdout",
       "text": [
        " 729 64 25 555.176842105\n",
        "4"
       ]
      },
      {
       "output_type": "stream",
       "stream": "stdout",
       "text": [
        " 729 128 5 397.4\n",
        "4"
       ]
      },
      {
       "output_type": "stream",
       "stream": "stdout",
       "text": [
        " 729 128 11 504.454545455\n",
        "4"
       ]
      },
      {
       "output_type": "stream",
       "stream": "stdout",
       "text": [
        " 729 128 25 540.76\n",
        "4"
       ]
      },
      {
       "output_type": "stream",
       "stream": "stdout",
       "text": [
        " 2187 32 5 1158.06666667\n",
        "4"
       ]
      },
      {
       "output_type": "stream",
       "stream": "stdout",
       "text": [
        " 2187 32 11 2422.16363636\n",
        "4"
       ]
      },
      {
       "output_type": "stream",
       "stream": "stdout",
       "text": [
        " 2187 32 25 2057.64516129\n",
        "4"
       ]
      },
      {
       "output_type": "stream",
       "stream": "stdout",
       "text": [
        " 2187 64 5 1089.8\n",
        "4"
       ]
      },
      {
       "output_type": "stream",
       "stream": "stdout",
       "text": [
        " 2187 64 11 2281.36363636\n",
        "4"
       ]
      },
      {
       "output_type": "stream",
       "stream": "stdout",
       "text": [
        " 2187 64 25 2884.76421053\n",
        "4"
       ]
      },
      {
       "output_type": "stream",
       "stream": "stdout",
       "text": [
        " 2187 128 5 1089.8\n",
        "4"
       ]
      },
      {
       "output_type": "stream",
       "stream": "stdout",
       "text": [
        " 2187 128 11 3351.90909091\n",
        "4"
       ]
      },
      {
       "output_type": "stream",
       "stream": "stdout",
       "text": [
        " 2187 128 25 3670.28\n",
        "4"
       ]
      },
      {
       "output_type": "stream",
       "stream": "stdout",
       "text": [
        " 6561 32 5 9208.6\n",
        "4"
       ]
      },
      {
       "output_type": "stream",
       "stream": "stdout",
       "text": [
        " 6561 32 11 22809.1818182\n",
        "4"
       ]
      },
      {
       "output_type": "stream",
       "stream": "stdout",
       "text": [
        " 6561 32 25 27660.4193548\n",
        "4"
       ]
      },
      {
       "output_type": "stream",
       "stream": "stdout",
       "text": [
        " 6561 64 5 7160.6\n",
        "4"
       ]
      },
      {
       "output_type": "stream",
       "stream": "stdout",
       "text": [
        " 6561 64 11 25089.9090909\n",
        "4"
       ]
      },
      {
       "output_type": "stream",
       "stream": "stdout",
       "text": [
        " 6561 64 25 19146.2505263\n",
        "4"
       ]
      },
      {
       "output_type": "stream",
       "stream": "stdout",
       "text": [
        " 6561 128 5 9208.6\n",
        "4"
       ]
      },
      {
       "output_type": "stream",
       "stream": "stdout",
       "text": [
        " 6561 128 11 9762.76470588\n",
        "4"
       ]
      },
      {
       "output_type": "stream",
       "stream": "stdout",
       "text": [
        " 6561 128 25 13837.08\n",
        "4"
       ]
      },
      {
       "output_type": "stream",
       "stream": "stdout",
       "text": [
        " 19683 32 5 10217.8\n",
        "4"
       ]
      },
      {
       "output_type": "stream",
       "stream": "stdout",
       "text": [
        " 19683 32 11 81716.2727273\n",
        "4"
       ]
      },
      {
       "output_type": "stream",
       "stream": "stdout",
       "text": [
        " 19683 32 25 102073.903226\n",
        "4"
       ]
      },
      {
       "output_type": "stream",
       "stream": "stdout",
       "text": [
        " 19683 64 5 10217.8\n",
        "4"
       ]
      },
      {
       "output_type": "stream",
       "stream": "stdout",
       "text": [
        " 19683 64 11 25373.0\n",
        "4"
       ]
      },
      {
       "output_type": "stream",
       "stream": "stdout",
       "text": [
        " 19683 64 25 70965.7915789\n",
        "4"
       ]
      },
      {
       "output_type": "stream",
       "stream": "stdout",
       "text": [
        " 19683 128 5 11446.6\n",
        "4"
       ]
      },
      {
       "output_type": "stream",
       "stream": "stdout",
       "text": [
        " 19683 128 11 42687.9090909\n",
        "4"
       ]
      },
      {
       "output_type": "stream",
       "stream": "stdout",
       "text": [
        " 19683 128 25 64694.6\n",
        "4"
       ]
      },
      {
       "output_type": "stream",
       "stream": "stdout",
       "text": [
        " 59049 32 5 88543.5333333\n",
        "4"
       ]
      },
      {
       "output_type": "stream",
       "stream": "stdout",
       "text": [
        " 59049 32 11 147110.127273\n",
        "4"
       ]
      },
      {
       "output_type": "stream",
       "stream": "stdout",
       "text": [
        " 59049 32 25 149450.612903\n",
        "4"
       ]
      },
      {
       "output_type": "stream",
       "stream": "stdout",
       "text": [
        " 59049 64 5 81034.2\n",
        "4"
       ]
      },
      {
       "output_type": "stream",
       "stream": "stdout",
       "text": [
        " 59049 64 11 139048.454545\n",
        "4"
       ]
      },
      {
       "output_type": "stream",
       "stream": "stdout",
       "text": [
        " 59049 64 25 156585.997895\n",
        "4"
       ]
      },
      {
       "output_type": "stream",
       "stream": "stdout",
       "text": [
        " 59049 128 5 119536.6\n",
        "4"
       ]
      },
      {
       "output_type": "stream",
       "stream": "stdout",
       "text": [
        " 59049 128 11 199239.941176\n",
        "4"
       ]
      },
      {
       "output_type": "stream",
       "stream": "stdout",
       "text": [
        " 59049 128 25 193592.28\n",
        "5 3 32 5 5.23333333333\n",
        "5 3 32 11 10.9454545455\n",
        "5 3 32 25 10.0322580645\n",
        "5 3 64 5 4.55\n",
        "5 3 64 11 10.0909090909\n",
        "5 3 64 25 8.70947368421\n",
        "5 3 128 5 5.4\n",
        "5 3 128 11 5.90909090909\n",
        "5 3 128 25 6.55555555556\n",
        "5 9 32 5 19.0\n",
        "5 9 32 11 31.6363636364\n",
        "5 9 32 25 34.3548387097\n",
        "5 9 64 5 12.6\n",
        "5 9 64 11 22.2727272727\n",
        "5 9 64 25 26.2631578947\n",
        "5 9 128 5 8.6\n",
        "5 9 128 11 7.72727272727\n",
        "5 9 128 25 8.48148148148\n",
        "5 27 32 5 26.6\n",
        "5 27 32 11 39.3272727273\n",
        "5"
       ]
      },
      {
       "output_type": "stream",
       "stream": "stdout",
       "text": [
        " 27 32 25 41.9032258065\n",
        "5 27 64 5 31.4\n",
        "5 27 64 11 30.4545454545\n",
        "5 27 64 25 44.4821052632\n",
        "5 27 128 5 33.8\n",
        "5 27 128 11 41.3636363636\n",
        "5"
       ]
      },
      {
       "output_type": "stream",
       "stream": "stdout",
       "text": [
        " 27 128 25 46.28\n",
        "5 81 32 5 29.1333333333\n",
        "5 81 32 11 24.4545454545\n",
        "5 81 32 25 26.3548387097\n",
        "5"
       ]
      },
      {
       "output_type": "stream",
       "stream": "stdout",
       "text": [
        " 81 64 5 74.2\n",
        "5 81 64 11 32.4545454545\n",
        "5 81 64 25 50.4863157895\n",
        "5"
       ]
      },
      {
       "output_type": "stream",
       "stream": "stdout",
       "text": [
        " 81 128 5 88.6\n",
        "5 81 128 11 89.1818181818\n",
        "5"
       ]
      },
      {
       "output_type": "stream",
       "stream": "stdout",
       "text": [
        " 81 128 25 79.64\n",
        "5 243 32 5 229.0\n",
        "5"
       ]
      },
      {
       "output_type": "stream",
       "stream": "stdout",
       "text": [
        " 243 32 11 241.363636364\n",
        "5 243 32 25 263.322580645\n",
        "5"
       ]
      },
      {
       "output_type": "stream",
       "stream": "stdout",
       "text": [
        " 243 64 5 163.4\n",
        "5"
       ]
      },
      {
       "output_type": "stream",
       "stream": "stdout",
       "text": [
        " 243 64 11 207.909090909\n",
        "5"
       ]
      },
      {
       "output_type": "stream",
       "stream": "stdout",
       "text": [
        " 243 64 25 609.581052632\n",
        "5"
       ]
      },
      {
       "output_type": "stream",
       "stream": "stdout",
       "text": [
        " 243 128 5 345.8\n",
        "5"
       ]
      },
      {
       "output_type": "stream",
       "stream": "stdout",
       "text": [
        " 243 128 11 382.454545455\n",
        "5"
       ]
      },
      {
       "output_type": "stream",
       "stream": "stdout",
       "text": [
        " 243 128 25 1134.28\n",
        "5"
       ]
      },
      {
       "output_type": "stream",
       "stream": "stdout",
       "text": [
        " 729 32 5 410.2\n",
        "5"
       ]
      },
      {
       "output_type": "stream",
       "stream": "stdout",
       "text": [
        " 729 32 11 320.890909091\n",
        "5"
       ]
      },
      {
       "output_type": "stream",
       "stream": "stdout",
       "text": [
        " 729 32 25 385.838709677\n",
        "5"
       ]
      },
      {
       "output_type": "stream",
       "stream": "stdout",
       "text": [
        " 729 64 5 410.2\n",
        "5"
       ]
      },
      {
       "output_type": "stream",
       "stream": "stdout",
       "text": [
        " 729 64 11 443.210526316\n",
        "5"
       ]
      },
      {
       "output_type": "stream",
       "stream": "stdout",
       "text": [
        " 729 64 25 770.149473684\n",
        "5"
       ]
      },
      {
       "output_type": "stream",
       "stream": "stdout",
       "text": [
        " 729 128 5 346.2\n",
        "5"
       ]
      },
      {
       "output_type": "stream",
       "stream": "stdout",
       "text": [
        " 729 128 11 423.0\n",
        "5"
       ]
      },
      {
       "output_type": "stream",
       "stream": "stdout",
       "text": [
        " 729 128 25 986.2\n",
        "5"
       ]
      },
      {
       "output_type": "stream",
       "stream": "stdout",
       "text": [
        " 2187 32 5 210.866666667\n",
        "5"
       ]
      },
      {
       "output_type": "stream",
       "stream": "stdout",
       "text": [
        " 2187 32 11 1295.76363636\n",
        "5"
       ]
      },
      {
       "output_type": "stream",
       "stream": "stdout",
       "text": [
        " 2187 32 25 901.516129032\n",
        "5"
       ]
      },
      {
       "output_type": "stream",
       "stream": "stdout",
       "text": [
        " 2187 64 5 680.2\n",
        "5"
       ]
      },
      {
       "output_type": "stream",
       "stream": "stdout",
       "text": [
        " 2187 64 11 2653.72727273\n",
        "5"
       ]
      },
      {
       "output_type": "stream",
       "stream": "stdout",
       "text": [
        " 2187 64 25 3298.40631579\n",
        "5"
       ]
      },
      {
       "output_type": "stream",
       "stream": "stdout",
       "text": [
        " 2187 128 5 1089.8\n",
        "5"
       ]
      },
      {
       "output_type": "stream",
       "stream": "stdout",
       "text": [
        " 2187 128 11 2700.27272727\n",
        "5"
       ]
      },
      {
       "output_type": "stream",
       "stream": "stdout",
       "text": [
        " 2187 128 25 3445.0\n",
        "5"
       ]
      },
      {
       "output_type": "stream",
       "stream": "stdout",
       "text": [
        " 6561 32 5 1631.0\n",
        "5"
       ]
      },
      {
       "output_type": "stream",
       "stream": "stdout",
       "text": [
        " 6561 32 11 2617.76363636\n",
        "5"
       ]
      },
      {
       "output_type": "stream",
       "stream": "stdout",
       "text": [
        " 6561 32 25 2688.03225806\n",
        "5"
       ]
      },
      {
       "output_type": "stream",
       "stream": "stdout",
       "text": [
        " 6561 64 5 9208.6\n",
        "5"
       ]
      },
      {
       "output_type": "stream",
       "stream": "stdout",
       "text": [
        " 6561 64 11 10009.1818182\n",
        "5"
       ]
      },
      {
       "output_type": "stream",
       "stream": "stdout",
       "text": [
        " 6561 64 25 3547823.84211\n",
        "5"
       ]
      },
      {
       "output_type": "stream",
       "stream": "stdout",
       "text": [
        " 6561 128 5 7775.0\n",
        "5"
       ]
      },
      {
       "output_type": "stream",
       "stream": "stdout",
       "text": [
        " 6561 128 11 7961.18181818\n",
        "5"
       ]
      },
      {
       "output_type": "stream",
       "stream": "stdout",
       "text": [
        " 6561 128 25 24240.92\n",
        "5"
       ]
      },
      {
       "output_type": "stream",
       "stream": "stdout",
       "text": [
        " 19683 32 5 2435.4\n",
        "5"
       ]
      },
      {
       "output_type": "stream",
       "stream": "stdout",
       "text": [
        " 19683 32 11 3180.12727273\n",
        "5"
       ]
      },
      {
       "output_type": "stream",
       "stream": "stdout",
       "text": [
        " 19683 32 25 2250.41935484\n",
        "5"
       ]
      },
      {
       "output_type": "stream",
       "stream": "stdout",
       "text": [
        " 19683 64 5 3869.0\n",
        "5"
       ]
      },
      {
       "output_type": "stream",
       "stream": "stdout",
       "text": [
        " 19683 64 11 11037.0\n",
        "5"
       ]
      },
      {
       "output_type": "stream",
       "stream": "stdout",
       "text": [
        " 19683 64 25 3576455.17263\n",
        "5"
       ]
      },
      {
       "output_type": "stream",
       "stream": "stdout",
       "text": [
        " 19683 128 5 4893.0\n",
        "5"
       ]
      },
      {
       "output_type": "stream",
       "stream": "stdout",
       "text": [
        " 19683 128 11 9470.88235294\n",
        "5"
       ]
      },
      {
       "output_type": "stream",
       "stream": "stdout",
       "text": [
        " 19683 128 25 21932.36\n",
        "5"
       ]
      },
      {
       "output_type": "stream",
       "stream": "stdout",
       "text": [
        " 59049 32 5 26967.0\n",
        "5"
       ]
      },
      {
       "output_type": "stream",
       "stream": "stdout",
       "text": [
        " 59049 32 11 12251218.3455\n",
        "5"
       ]
      },
      {
       "output_type": "stream",
       "stream": "stdout",
       "text": [
        " 59049 32 25 8695820.67742\n",
        "5"
       ]
      },
      {
       "output_type": "stream",
       "stream": "stdout",
       "text": [
        " 59049 64 5 49085.4\n",
        "5"
       ]
      },
      {
       "output_type": "stream",
       "stream": "stdout",
       "text": [
        " 59049 64 11 136265.526316\n",
        "5"
       ]
      },
      {
       "output_type": "stream",
       "stream": "stdout",
       "text": [
        " 59049 64 25 8983224.54947\n",
        "5"
       ]
      },
      {
       "output_type": "stream",
       "stream": "stdout",
       "text": [
        " 59049 128 5 75299.8\n",
        "5"
       ]
      },
      {
       "output_type": "stream",
       "stream": "stdout",
       "text": [
        " 59049 128 11 93620.0909091\n",
        "5"
       ]
      },
      {
       "output_type": "stream",
       "stream": "stdout",
       "text": [
        " 59049 128 25 1349064.77778\n",
        "6 3 32 5 4.4\n",
        "6 3 32 11 6.80454545455\n",
        "6 3 32 25 5.90322580645\n",
        "6 3 64 5 5.2\n",
        "6 3 64 11 6.45454545455\n",
        "6 3 64 25 7.29684210526\n",
        "6 3 128 5 3.8\n",
        "6 3 128 11 5.54545454545\n",
        "6 3 128 25 6.12\n",
        "6 9 32 5 5.4\n",
        "6 9 32 11 23.0909090909\n",
        "6 9 32 25 17.8387096774\n",
        "6 9 64 5 8.6\n",
        "6 9 64 11 12.0909090909\n",
        "6 9 64 25 18.5621052632\n",
        "6 9 128 5 7.0\n",
        "6 9 128 11 19.3636363636\n",
        "6 9 128 25 20.44\n",
        "6 27 32 5 25.5333333333\n",
        "6 27 32 11 37.8909090909\n",
        "6"
       ]
      },
      {
       "output_type": "stream",
       "stream": "stdout",
       "text": [
        " 27 32 25 37.5161290323\n",
        "6 27 64 5 33.8\n",
        "6 27 64 11 42.0909090909\n",
        "6 27 64 25 53.4463157895\n",
        "6 27 128 5 29.0\n",
        "6 27 128 11 45.7272727273\n",
        "6"
       ]
      },
      {
       "output_type": "stream",
       "stream": "stdout",
       "text": [
        " 27 128 25 49.4444444444\n",
        "6 81 32 5 103.0\n",
        "6 81 32 11 213.763636364\n",
        "6 81 32 25 250.35483871\n",
        "6"
       ]
      },
      {
       "output_type": "stream",
       "stream": "stdout",
       "text": [
        " 81 64 5 163.8\n",
        "6 81 64 11 182.578947368\n",
        "6 81 64 25 207.867368421\n",
        "6"
       ]
      },
      {
       "output_type": "stream",
       "stream": "stdout",
       "text": [
        " 81 128 5 91.8\n",
        "6 81 128 11 175.0\n",
        "6"
       ]
      },
      {
       "output_type": "stream",
       "stream": "stdout",
       "text": [
        " 81 128 25 210.84\n",
        "6 243 32 5 246.6\n",
        "6"
       ]
      },
      {
       "output_type": "stream",
       "stream": "stdout",
       "text": [
        " 243 32 11 362.6\n",
        "6 243 32 25 436.225806452\n",
        "6"
       ]
      },
      {
       "output_type": "stream",
       "stream": "stdout",
       "text": [
        " 243 64 5 313.8\n",
        "6"
       ]
      },
      {
       "output_type": "stream",
       "stream": "stdout",
       "text": [
        " 243 64 11 149.727272727\n",
        "6"
       ]
      },
      {
       "output_type": "stream",
       "stream": "stdout",
       "text": [
        " 243 64 25 611.366315789\n",
        "6"
       ]
      },
      {
       "output_type": "stream",
       "stream": "stdout",
       "text": [
        " 243 128 5 294.6\n",
        "6"
       ]
      },
      {
       "output_type": "stream",
       "stream": "stdout",
       "text": [
        " 243 128 11 312.636363636\n",
        "6"
       ]
      },
      {
       "output_type": "stream",
       "stream": "stdout",
       "text": [
        " 243 128 25 468.68\n",
        "6"
       ]
      },
      {
       "output_type": "stream",
       "stream": "stdout",
       "text": [
        " 729 32 5 329.133333333\n",
        "6"
       ]
      },
      {
       "output_type": "stream",
       "stream": "stdout",
       "text": [
        " 729 32 11 388.963636364\n",
        "6"
       ]
      },
      {
       "output_type": "stream",
       "stream": "stdout",
       "text": [
        " 729 32 25 423.0\n",
        "6"
       ]
      },
      {
       "output_type": "stream",
       "stream": "stdout",
       "text": [
        " 729 64 5 551.0\n",
        "6"
       ]
      },
      {
       "output_type": "stream",
       "stream": "stdout",
       "text": [
        " 729 64 11 993.181818182\n",
        "6"
       ]
      },
      {
       "output_type": "stream",
       "stream": "stdout",
       "text": [
        " 729 64 25 760.583157895\n",
        "6"
       ]
      },
      {
       "output_type": "stream",
       "stream": "stdout",
       "text": [
        " 729 128 5 551.0\n",
        "6"
       ]
      },
      {
       "output_type": "stream",
       "stream": "stdout",
       "text": [
        " 729 128 11 993.181818182\n",
        "6"
       ]
      },
      {
       "output_type": "stream",
       "stream": "stdout",
       "text": [
        " 729 128 25 796.76\n",
        "6"
       ]
      },
      {
       "output_type": "stream",
       "stream": "stdout",
       "text": [
        " 2187 32 5 1064.2\n",
        "6"
       ]
      },
      {
       "output_type": "stream",
       "stream": "stdout",
       "text": [
        " 2187 32 11 6144.63636364\n",
        "6"
       ]
      },
      {
       "output_type": "stream",
       "stream": "stdout",
       "text": [
        " 2187 32 25 4617.64516129\n",
        "6"
       ]
      },
      {
       "output_type": "stream",
       "stream": "stdout",
       "text": [
        " 2187 64 5 1601.8\n",
        "6"
       ]
      },
      {
       "output_type": "stream",
       "stream": "stdout",
       "text": [
        " 2187 64 11 1639.52631579\n",
        "6"
       ]
      },
      {
       "output_type": "stream",
       "stream": "stdout",
       "text": [
        " 2187 64 25 4291.01263158\n",
        "6"
       ]
      },
      {
       "output_type": "stream",
       "stream": "stdout",
       "text": [
        " 2187 128 5 1909.0\n",
        "6"
       ]
      },
      {
       "output_type": "stream",
       "stream": "stdout",
       "text": [
        " 2187 128 11 2560.63636364\n",
        "6"
       ]
      },
      {
       "output_type": "stream",
       "stream": "stdout",
       "text": [
        " 2187 128 25 3987.72\n",
        "6"
       ]
      },
      {
       "output_type": "stream",
       "stream": "stdout",
       "text": [
        " 6561 32 5 1016.6\n",
        "6"
       ]
      },
      {
       "output_type": "stream",
       "stream": "stdout",
       "text": [
        " 6561 32 11 11815.1454545\n",
        "6"
       ]
      },
      {
       "output_type": "stream",
       "stream": "stdout",
       "text": [
        " 6561 32 25 8799.0\n",
        "6"
       ]
      },
      {
       "output_type": "stream",
       "stream": "stdout",
       "text": [
        " 6561 64 5 4293.4\n",
        "6"
       ]
      },
      {
       "output_type": "stream",
       "stream": "stdout",
       "text": [
        " 6561 64 11 9715.21052632\n",
        "6"
       ]
      },
      {
       "output_type": "stream",
       "stream": "stdout",
       "text": [
        " 6561 64 25 9668.86105263\n",
        "6"
       ]
      },
      {
       "output_type": "stream",
       "stream": "stdout",
       "text": [
        " 6561 128 5 5727.0\n",
        "6"
       ]
      },
      {
       "output_type": "stream",
       "stream": "stdout",
       "text": [
        " 6561 128 11 10940.0909091\n",
        "6"
       ]
      },
      {
       "output_type": "stream",
       "stream": "stdout",
       "text": [
        " 6561 128 25 21046.04\n",
        "6"
       ]
      },
      {
       "output_type": "stream",
       "stream": "stdout",
       "text": [
        " 19683 32 5 1411.4\n",
        "6"
       ]
      },
      {
       "output_type": "stream",
       "stream": "stdout",
       "text": [
        " 19683 32 11 24791.1818182\n",
        "6"
       ]
      },
      {
       "output_type": "stream",
       "stream": "stdout",
       "text": [
        " 19683 32 25 16784.6129032\n",
        "6"
       ]
      },
      {
       "output_type": "stream",
       "stream": "stdout",
       "text": [
        " 19683 64 5 18947.4\n",
        "6"
       ]
      },
      {
       "output_type": "stream",
       "stream": "stdout",
       "text": [
        " 19683 64 11 52369.3636364\n",
        "6"
       ]
      },
      {
       "output_type": "stream",
       "stream": "stdout",
       "text": [
        " 19683 64 25 99321.9684211\n",
        "6"
       ]
      },
      {
       "output_type": "stream",
       "stream": "stdout",
       "text": [
        " 19683 128 5 26192.2\n",
        "6"
       ]
      },
      {
       "output_type": "stream",
       "stream": "stdout",
       "text": [
        " 19683 128 11 52369.3636364\n",
        "6"
       ]
      },
      {
       "output_type": "stream",
       "stream": "stdout",
       "text": [
        " 19683 128 25 50479.962963\n",
        "6"
       ]
      },
      {
       "output_type": "stream",
       "stream": "stdout",
       "text": [
        " 59049 32 5 52362.2\n",
        "6"
       ]
      },
      {
       "output_type": "stream",
       "stream": "stdout",
       "text": [
        " 59049 32 11 142939.654545\n",
        "6"
       ]
      },
      {
       "output_type": "stream",
       "stream": "stdout",
       "text": [
        " 59049 32 25 162663.516129\n",
        "6"
       ]
      },
      {
       "output_type": "stream",
       "stream": "stdout",
       "text": [
        " 59049 64 5 70384.6\n",
        "6"
       ]
      },
      {
       "output_type": "stream",
       "stream": "stdout",
       "text": [
        " 59049 64 11 374382.272727\n",
        "6"
       ]
      },
      {
       "output_type": "stream",
       "stream": "stdout",
       "text": [
        " 59049 64 25 278875.311579\n",
        "6"
       ]
      },
      {
       "output_type": "stream",
       "stream": "stdout",
       "text": [
        " 59049 128 5 68746.2\n",
        "6"
       ]
      },
      {
       "output_type": "stream",
       "stream": "stdout",
       "text": [
        " 59049 128 11 207563.363636\n",
        "6"
       ]
      },
      {
       "output_type": "stream",
       "stream": "stdout",
       "text": [
        " 59049 128 25 378731.48\n",
        "7 3 32 5 3.6\n",
        "7 3 32 11 10.9363636364\n",
        "7 3 32 25 9.96774193548\n",
        "7 3 64 5 3.8\n",
        "7 3 64 11 4.68421052632\n",
        "7 3 64 25 7.04315789474\n",
        "7 3 128 5 4.6\n",
        "7 3 128 11 5.36363636364\n",
        "7 3 128 25 7.56\n",
        "7 9 32 5 19.0\n",
        "7 9 32 11 21.2181818182\n",
        "7 9 32 25 19.6451612903\n",
        "7 9 64 5 10.2\n",
        "7 9 64 11 12.0909090909\n",
        "7 9 64 25 14.3136842105\n",
        "7 9 128 5 9.28571428571\n",
        "7 9 128 11 18.6363636364\n",
        "7 9 128 25 18.2\n",
        "7 27 32 5 60.2\n",
        "7 27 32 11 173.909090909\n",
        "7"
       ]
      },
      {
       "output_type": "stream",
       "stream": "stdout",
       "text": [
        " 27 32 25 193.387096774\n",
        "7 27 64 5 53.0\n",
        "7 27 64 11 50.4736842105\n",
        "7 27 64 25 110.482105263\n",
        "7 27 128 5 53.0\n",
        "7"
       ]
      },
      {
       "output_type": "stream",
       "stream": "stdout",
       "text": [
        " 27 128 11 77.7272727273\n",
        "7 27 128 25 93.0\n",
        "7 81 32 5 83.8\n",
        "7 81 32 11 161.109090909\n",
        "7 81 32 25 187.903225806\n",
        "7"
       ]
      },
      {
       "output_type": "stream",
       "stream": "stdout",
       "text": [
        " 81 64 5 96.6\n",
        "7 81 64 11 68.8181818182\n",
        "7 81 64 25 634.747368421\n",
        "7"
       ]
      },
      {
       "output_type": "stream",
       "stream": "stdout",
       "text": [
        " 81 128 5 91.8\n",
        "7 81 128 11 186.636363636\n",
        "7"
       ]
      },
      {
       "output_type": "stream",
       "stream": "stdout",
       "text": [
        " 81 128 25 267.16\n",
        "7 243 32 5 61.0\n",
        "7"
       ]
      },
      {
       "output_type": "stream",
       "stream": "stdout",
       "text": [
        " 243 32 11 135.4\n",
        "7 243 32 25 170.935483871\n",
        "7"
       ]
      },
      {
       "output_type": "stream",
       "stream": "stdout",
       "text": [
        " 243 64 5 93.0\n",
        "7"
       ]
      },
      {
       "output_type": "stream",
       "stream": "stdout",
       "text": [
        " 243 64 11 466.818181818\n",
        "7"
       ]
      },
      {
       "output_type": "stream",
       "stream": "stdout",
       "text": [
        " 243 64 25 1482.20421053\n",
        "7"
       ]
      },
      {
       "output_type": "stream",
       "stream": "stdout",
       "text": [
        " 243 128 5 109.0\n",
        "7"
       ]
      },
      {
       "output_type": "stream",
       "stream": "stdout",
       "text": [
        " 243 128 11 483.588235294\n",
        "7"
       ]
      },
      {
       "output_type": "stream",
       "stream": "stdout",
       "text": [
        " 243 128 25 729.8\n",
        "7"
       ]
      },
      {
       "output_type": "stream",
       "stream": "stdout",
       "text": [
        " 729 32 5 615.0\n",
        "7"
       ]
      },
      {
       "output_type": "stream",
       "stream": "stdout",
       "text": [
        " 729 32 11 2273.18181818\n",
        "7"
       ]
      },
      {
       "output_type": "stream",
       "stream": "stdout",
       "text": [
        " 729 32 25 1884.67741935\n",
        "7"
       ]
      },
      {
       "output_type": "stream",
       "stream": "stdout",
       "text": [
        " 729 64 5 512.6\n",
        "7"
       ]
      },
      {
       "output_type": "stream",
       "stream": "stdout",
       "text": [
        " 729 64 11 3272.68421053\n",
        "7"
       ]
      },
      {
       "output_type": "stream",
       "stream": "stdout",
       "text": [
        " 729 64 25 2438.12421053\n",
        "7"
       ]
      },
      {
       "output_type": "stream",
       "stream": "stdout",
       "text": [
        " 729 128 5 627.8\n",
        "7"
       ]
      },
      {
       "output_type": "stream",
       "stream": "stdout",
       "text": [
        " 729 128 11 1796.09090909\n",
        "7"
       ]
      },
      {
       "output_type": "stream",
       "stream": "stdout",
       "text": [
        " 729 128 25 2271.32\n",
        "7"
       ]
      },
      {
       "output_type": "stream",
       "stream": "stdout",
       "text": [
        " 2187 32 5 2369.8\n",
        "7"
       ]
      },
      {
       "output_type": "stream",
       "stream": "stdout",
       "text": [
        " 2187 32 11 3021.43636364\n",
        "7"
       ]
      },
      {
       "output_type": "stream",
       "stream": "stdout",
       "text": [
        " 2187 32 25 2817.38709677\n",
        "7"
       ]
      },
      {
       "output_type": "stream",
       "stream": "stdout",
       "text": [
        " 2187 64 5 2318.6\n",
        "7"
       ]
      },
      {
       "output_type": "stream",
       "stream": "stdout",
       "text": [
        " 2187 64 11 3119.18181818\n",
        "7"
       ]
      },
      {
       "output_type": "stream",
       "stream": "stdout",
       "text": [
        " 2187 64 25 3721.34526316\n",
        "7"
       ]
      },
      {
       "output_type": "stream",
       "stream": "stdout",
       "text": [
        " 2187 128 5 2523.4\n",
        "7"
       ]
      },
      {
       "output_type": "stream",
       "stream": "stdout",
       "text": [
        " 2187 128 11 3724.27272727\n",
        "7"
       ]
      },
      {
       "output_type": "stream",
       "stream": "stdout",
       "text": [
        " 2187 128 25 2912.52\n",
        "7"
       ]
      },
      {
       "output_type": "stream",
       "stream": "stdout",
       "text": [
        " 6561 32 5 4327.53333333\n",
        "7"
       ]
      },
      {
       "output_type": "stream",
       "stream": "stdout",
       "text": [
        " 6561 32 11 4637.83636364\n",
        "7"
       ]
      },
      {
       "output_type": "stream",
       "stream": "stdout",
       "text": [
        " 6561 32 25 5429.70967742\n",
        "7"
       ]
      },
      {
       "output_type": "stream",
       "stream": "stdout",
       "text": [
        " 6561 64 5 5010.2\n",
        "7"
       ]
      },
      {
       "output_type": "stream",
       "stream": "stdout",
       "text": [
        " 6561 64 11 8705.90909091\n",
        "7"
       ]
      },
      {
       "output_type": "stream",
       "stream": "stdout",
       "text": [
        " 6561 64 25 11082.52\n",
        "7"
       ]
      },
      {
       "output_type": "stream",
       "stream": "stdout",
       "text": [
        " 6561 128 5 4293.4\n",
        "7"
       ]
      },
      {
       "output_type": "stream",
       "stream": "stdout",
       "text": [
        " 6561 128 11 8705.90909091\n",
        "7"
       ]
      },
      {
       "output_type": "stream",
       "stream": "stdout",
       "text": [
        " 6561 128 25 7623.2962963\n",
        "7"
       ]
      },
      {
       "output_type": "stream",
       "stream": "stdout",
       "text": [
        " 19683 32 5 43907.4\n",
        "7"
       ]
      },
      {
       "output_type": "stream",
       "stream": "stdout",
       "text": [
        " 19683 32 11 53197.8727273\n",
        "7"
       ]
      },
      {
       "output_type": "stream",
       "stream": "stdout",
       "text": [
        " 19683 32 25 70627.1935484\n",
        "7"
       ]
      },
      {
       "output_type": "stream",
       "stream": "stdout",
       "text": [
        " 19683 64 5 23939.4\n",
        "7"
       ]
      },
      {
       "output_type": "stream",
       "stream": "stdout",
       "text": [
        " 19683 64 11 47528.6363636\n",
        "7"
       ]
      },
      {
       "output_type": "stream",
       "stream": "stdout",
       "text": [
        " 19683 64 25 161582.246316\n",
        "7"
       ]
      },
      {
       "output_type": "stream",
       "stream": "stdout",
       "text": [
        " 19683 128 5 3254.6\n",
        "7"
       ]
      },
      {
       "output_type": "stream",
       "stream": "stdout",
       "text": [
        " 19683 128 11 14574.4545455\n",
        "7"
       ]
      },
      {
       "output_type": "stream",
       "stream": "stdout",
       "text": [
        " 19683 128 25 21932.36\n",
        "7"
       ]
      },
      {
       "output_type": "stream",
       "stream": "stdout",
       "text": [
        " 59049 32 5 167050.2\n",
        "7"
       ]
      },
      {
       "output_type": "stream",
       "stream": "stdout",
       "text": [
        " 59049 32 11 545539.218182\n",
        "7"
       ]
      },
      {
       "output_type": "stream",
       "stream": "stdout",
       "text": [
        " 59049 32 25 446476.677419\n",
        "7"
       ]
      },
      {
       "output_type": "stream",
       "stream": "stdout",
       "text": [
        " 59049 64 5 162954.2\n",
        "7"
       ]
      },
      {
       "output_type": "stream",
       "stream": "stdout",
       "text": [
        " 59049 64 11 690303.421053\n",
        "7"
       ]
      },
      {
       "output_type": "stream",
       "stream": "stdout",
       "text": [
        " 59049 64 25 573757.130526\n",
        "7"
       ]
      },
      {
       "output_type": "stream",
       "stream": "stdout",
       "text": [
        " 59049 128 5 52362.2\n",
        "7"
       ]
      },
      {
       "output_type": "stream",
       "stream": "stdout",
       "text": [
        " 59049 128 11 112238.272727\n",
        "7"
       ]
      },
      {
       "output_type": "stream",
       "stream": "stdout",
       "text": [
        " 59049 128 25 388889.56\n",
        "8 3 32 5 10.0\n",
        "8 3 32 11 10.8409090909\n",
        "8 3 32 25 11.3225806452\n",
        "8 3 64 5 10.0\n",
        "8 3 64 11 15.5454545455\n",
        "8 3 64 25 13.7926315789\n",
        "8 3 128 5 5.0\n",
        "8 3 128 11 6.52941176471\n",
        "8 3 128 25 10.04\n",
        "8 9 32 5 36.6\n",
        "8 9 32 11 48.5818181818\n",
        "8 9 32 25 54.7419354839\n",
        "8 9 64 5 35.0\n",
        "8 9 64 11 27.3636363636\n",
        "8 9 64 25 41.6021052632\n",
        "8 9 128 5 8.6\n",
        "8 9 128 11 9.82352941176\n",
        "8 9 128 25 14.36\n",
        "8 27 32 5 70.6\n",
        "8 27 32 11 97.9818181818\n",
        "8"
       ]
      },
      {
       "output_type": "stream",
       "stream": "stdout",
       "text": [
        " 27 32 25 102.806451613\n",
        "8 27 64 5 62.6\n",
        "8 27 64 11 81.3636363636\n",
        "8 27 64 25 103.757894737\n",
        "8 27 128 5 42.7142857143\n",
        "8 27 128 11 76.2727272727\n",
        "8"
       ]
      },
      {
       "output_type": "stream",
       "stream": "stdout",
       "text": [
        " 27 128 25 64.2\n",
        "8 81 32 5 16.6\n",
        "8 81 32 11 126.018181818\n",
        "8 81 32 25 122.35483871\n",
        "8"
       ]
      },
      {
       "output_type": "stream",
       "stream": "stdout",
       "text": [
        " 81 64 5 83.8\n",
        "8 81 64 11 138.636363636\n",
        "8 81 64 25 127.303157895\n",
        "8"
       ]
      },
      {
       "output_type": "stream",
       "stream": "stdout",
       "text": [
        " 81 128 5 53.4\n",
        "8 81 128 11 175.0\n",
        "8"
       ]
      },
      {
       "output_type": "stream",
       "stream": "stdout",
       "text": [
        " 81 128 25 165.518518519\n",
        "8 243 32 5 80.2\n",
        "8"
       ]
      },
      {
       "output_type": "stream",
       "stream": "stdout",
       "text": [
        " 243 32 11 97.8727272727\n",
        "8 243 32 25 118.290322581\n",
        "8"
       ]
      },
      {
       "output_type": "stream",
       "stream": "stdout",
       "text": [
        " 243 64 5 198.6\n",
        "8"
       ]
      },
      {
       "output_type": "stream",
       "stream": "stdout",
       "text": [
        " 243 64 11 315.545454545\n",
        "8"
       ]
      },
      {
       "output_type": "stream",
       "stream": "stdout",
       "text": [
        " 243 64 25 256.301052632\n",
        "8"
       ]
      },
      {
       "output_type": "stream",
       "stream": "stdout",
       "text": [
        " 243 128 5 166.6\n",
        "8"
       ]
      },
      {
       "output_type": "stream",
       "stream": "stdout",
       "text": [
        " 243 128 11 298.090909091\n",
        "8"
       ]
      },
      {
       "output_type": "stream",
       "stream": "stdout",
       "text": [
        " 243 128 25 171.72\n",
        "8"
       ]
      },
      {
       "output_type": "stream",
       "stream": "stdout",
       "text": [
        " 729 32 5 487.0\n",
        "8"
       ]
      },
      {
       "output_type": "stream",
       "stream": "stdout",
       "text": [
        " 729 32 11 588.527272727\n",
        "8"
       ]
      },
      {
       "output_type": "stream",
       "stream": "stdout",
       "text": [
        " 729 32 25 650.096774194\n",
        "8"
       ]
      },
      {
       "output_type": "stream",
       "stream": "stdout",
       "text": [
        " 729 64 5 627.8\n",
        "8"
       ]
      },
      {
       "output_type": "stream",
       "stream": "stdout",
       "text": [
        " 729 64 11 854.157894737\n",
        "8"
       ]
      },
      {
       "output_type": "stream",
       "stream": "stdout",
       "text": [
        " 729 64 25 1535.05052632\n",
        "8"
       ]
      },
      {
       "output_type": "stream",
       "stream": "stdout",
       "text": [
        " 729 128 5 627.8\n",
        "8"
       ]
      },
      {
       "output_type": "stream",
       "stream": "stdout",
       "text": [
        " 729 128 11 841.909090909\n",
        "8"
       ]
      },
      {
       "output_type": "stream",
       "stream": "stdout",
       "text": [
        " 729 128 25 837.72\n",
        "8"
       ]
      },
      {
       "output_type": "stream",
       "stream": "stdout",
       "text": [
        " 2187 32 5 680.2\n",
        "8"
       ]
      },
      {
       "output_type": "stream",
       "stream": "stdout",
       "text": [
        " 2187 32 11 910.6\n",
        "8"
       ]
      },
      {
       "output_type": "stream",
       "stream": "stdout",
       "text": [
        " 2187 32 25 1066.67741935\n",
        "8"
       ]
      },
      {
       "output_type": "stream",
       "stream": "stdout",
       "text": [
        " 2187 64 5 1294.6\n",
        "8"
       ]
      },
      {
       "output_type": "stream",
       "stream": "stdout",
       "text": [
        " 2187 64 11 1397.0\n",
        "8"
       ]
      },
      {
       "output_type": "stream",
       "stream": "stdout",
       "text": [
        " 2187 64 25 2420.73052632\n",
        "8"
       ]
      },
      {
       "output_type": "stream",
       "stream": "stdout",
       "text": [
        " 2187 128 5 2318.6\n",
        "8"
       ]
      },
      {
       "output_type": "stream",
       "stream": "stdout",
       "text": [
        " 2187 128 11 3305.36363636\n",
        "8"
       ]
      },
      {
       "output_type": "stream",
       "stream": "stdout",
       "text": [
        " 2187 128 25 4755.72\n",
        "8"
       ]
      },
      {
       "output_type": "stream",
       "stream": "stdout",
       "text": [
        " 6561 32 5 811.8\n",
        "8"
       ]
      },
      {
       "output_type": "stream",
       "stream": "stdout",
       "text": [
        " 6561 32 11 2524.67272727\n",
        "8"
       ]
      },
      {
       "output_type": "stream",
       "stream": "stdout",
       "text": [
        " 6561 32 25 3216.5483871\n",
        "8"
       ]
      },
      {
       "output_type": "stream",
       "stream": "stdout",
       "text": [
        " 6561 64 5 1554.2\n",
        "8"
       ]
      },
      {
       "output_type": "stream",
       "stream": "stdout",
       "text": [
        " 6561 64 11 3492.81818182\n",
        "8"
       ]
      },
      {
       "output_type": "stream",
       "stream": "stdout",
       "text": [
        " 6561 64 25 4264.29684211\n",
        "8"
       ]
      },
      {
       "output_type": "stream",
       "stream": "stdout",
       "text": [
        " 6561 128 5 8184.6\n",
        "8"
       ]
      },
      {
       "output_type": "stream",
       "stream": "stdout",
       "text": [
        " 6561 128 11 9450.63636364\n",
        "8"
       ]
      },
      {
       "output_type": "stream",
       "stream": "stdout",
       "text": [
        " 6561 128 25 7611.16\n",
        "8"
       ]
      },
      {
       "output_type": "stream",
       "stream": "stdout",
       "text": [
        " 19683 32 5 15133.0\n",
        "8"
       ]
      },
      {
       "output_type": "stream",
       "stream": "stdout",
       "text": [
        " 19683 32 11 25391.6181818\n",
        "8"
       ]
      },
      {
       "output_type": "stream",
       "stream": "stdout",
       "text": [
        " 19683 32 25 29072.6129032\n",
        "8"
       ]
      },
      {
       "output_type": "stream",
       "stream": "stdout",
       "text": [
        " 19683 64 5 10217.8\n",
        "8"
       ]
      },
      {
       "output_type": "stream",
       "stream": "stdout",
       "text": [
        " 19683 64 11 12712.6363636\n",
        "8"
       ]
      },
      {
       "output_type": "stream",
       "stream": "stdout",
       "text": [
        " 19683 64 25 15320.5536842\n",
        "8"
       ]
      },
      {
       "output_type": "stream",
       "stream": "stdout",
       "text": [
        " 19683 128 5 11446.6\n",
        "8"
       ]
      },
      {
       "output_type": "stream",
       "stream": "stdout",
       "text": [
        " 19683 128 11 13085.0\n",
        "8"
       ]
      },
      {
       "output_type": "stream",
       "stream": "stdout",
       "text": [
        " 19683 128 25 21656.2592593\n",
        "8"
       ]
      },
      {
       "output_type": "stream",
       "stream": "stdout",
       "text": [
        " 59049 32 5 48266.2\n",
        "8"
       ]
      },
      {
       "output_type": "stream",
       "stream": "stdout",
       "text": [
        " 59049 32 11 417148.236364\n",
        "8"
       ]
      },
      {
       "output_type": "stream",
       "stream": "stdout",
       "text": [
        " 59049 32 25 317783.0\n",
        "8"
       ]
      },
      {
       "output_type": "stream",
       "stream": "stdout",
       "text": [
        " 59049 64 5 37616.6\n",
        "8"
       ]
      },
      {
       "output_type": "stream",
       "stream": "stdout",
       "text": [
        " 59049 64 11 95736.6842105\n",
        "8"
       ]
      },
      {
       "output_type": "stream",
       "stream": "stdout",
       "text": [
        " 59049 64 25 219927.404211\n",
        "8"
       ]
      },
      {
       "output_type": "stream",
       "stream": "stdout",
       "text": [
        " 59049 128 5 40425.2857143\n",
        "8"
       ]
      },
      {
       "output_type": "stream",
       "stream": "stdout",
       "text": [
        " 59049 128 11 51170.6363636\n",
        "8"
       ]
      },
      {
       "output_type": "stream",
       "stream": "stdout",
       "text": [
        " 59049 128 25 105446.36\n",
        "9 3 32 5 5.0\n",
        "9 3 32 11 11.6363636364\n",
        "9 3 32 25 13.7741935484\n",
        "9 3 64 5 3.2\n",
        "9 3 64 11 9.18181818182\n",
        "9 3 64 25 11.3578947368\n",
        "9 3 128 5 3.8\n",
        "9 3 128 11 4.76470588235\n",
        "9 3 128 25 10.2\n",
        "9 9 32 5 26.0666666667\n",
        "9 9 32 11 32.1818181818\n",
        "9 9 32 25 38.2258064516\n",
        "9 9 64 5 19.8\n",
        "9 9 64 11 17.1818181818\n",
        "9 9 64 25 28.7936842105\n",
        "9 9 128 5 5.4\n",
        "9 9 128 11 11.3636363636\n",
        "9 9 128 25 19.48\n",
        "9 27 32 5 36.2\n",
        "9 27 32 11 47.4545454545\n",
        "9"
       ]
      },
      {
       "output_type": "stream",
       "stream": "stdout",
       "text": [
        " 27 32 25 51.9677419355\n",
        "9 27 64 5 29.0\n",
        "9 27 64 11 31.9090909091\n",
        "9 27 64 25 44.4610526316\n",
        "9 27 128 5 30.6\n",
        "9 27 128 11 31.9090909091\n",
        "9"
       ]
      },
      {
       "output_type": "stream",
       "stream": "stdout",
       "text": [
        " 27 128 25 57.48\n",
        "9 81 32 5 11.8\n",
        "9 81 32 11 114.781818182\n",
        "9 81 32 25 86.7419354839\n",
        "9"
       ]
      },
      {
       "output_type": "stream",
       "stream": "stdout",
       "text": [
        " 81 64 5 11.8\n",
        "9 81 64 11 153.181818182\n",
        "9 81 64 25 121.652631579\n",
        "9"
       ]
      },
      {
       "output_type": "stream",
       "stream": "stdout",
       "text": [
        " 81 128 5 59.8\n",
        "9 81 128 11 55.7272727273\n",
        "9"
       ]
      },
      {
       "output_type": "stream",
       "stream": "stdout",
       "text": [
        " 81 128 25 114.2\n",
        "9 243 32 5 313.8\n",
        "9"
       ]
      },
      {
       "output_type": "stream",
       "stream": "stdout",
       "text": [
        " 243 32 11 434.454545455\n",
        "9 243 32 25 481.64516129\n",
        "9"
       ]
      },
      {
       "output_type": "stream",
       "stream": "stdout",
       "text": [
        " 243 64 5 371.4\n",
        "9"
       ]
      },
      {
       "output_type": "stream",
       "stream": "stdout",
       "text": [
        " 243 64 11 414.454545455\n",
        "9"
       ]
      },
      {
       "output_type": "stream",
       "stream": "stdout",
       "text": [
        " 243 64 25 495.037894737\n",
        "9"
       ]
      },
      {
       "output_type": "stream",
       "stream": "stdout",
       "text": [
        " 243 128 5 320.2\n",
        "9"
       ]
      },
      {
       "output_type": "stream",
       "stream": "stdout",
       "text": [
        " 243 128 11 402.818181818\n",
        "9"
       ]
      },
      {
       "output_type": "stream",
       "stream": "stdout",
       "text": [
        " 243 128 25 610.76\n",
        "9"
       ]
      },
      {
       "output_type": "stream",
       "stream": "stdout",
       "text": [
        " 729 32 5 768.6\n",
        "9"
       ]
      },
      {
       "output_type": "stream",
       "stream": "stdout",
       "text": [
        " 729 32 11 1024.01818182\n",
        "9"
       ]
      },
      {
       "output_type": "stream",
       "stream": "stdout",
       "text": [
        " 729 32 25 1083.64516129\n",
        "9"
       ]
      },
      {
       "output_type": "stream",
       "stream": "stdout",
       "text": [
        " 729 64 5 747.8\n",
        "9"
       ]
      },
      {
       "output_type": "stream",
       "stream": "stdout",
       "text": [
        " 729 64 11 818.636363636\n",
        "9"
       ]
      },
      {
       "output_type": "stream",
       "stream": "stdout",
       "text": [
        " 729 64 25 967.202105263\n",
        "9"
       ]
      },
      {
       "output_type": "stream",
       "stream": "stdout",
       "text": [
        " 729 128 5 704.6\n",
        "9"
       ]
      },
      {
       "output_type": "stream",
       "stream": "stdout",
       "text": [
        " 729 128 11 865.181818182\n",
        "9"
       ]
      },
      {
       "output_type": "stream",
       "stream": "stdout",
       "text": [
        " 729 128 25 1349.72\n",
        "9"
       ]
      },
      {
       "output_type": "stream",
       "stream": "stdout",
       "text": [
        " 2187 32 5 1499.4\n",
        "9"
       ]
      },
      {
       "output_type": "stream",
       "stream": "stdout",
       "text": [
        " 2187 32 11 7634.09090909\n",
        "9"
       ]
      },
      {
       "output_type": "stream",
       "stream": "stdout",
       "text": [
        " 2187 32 25 9836.74193548\n",
        "9"
       ]
      },
      {
       "output_type": "stream",
       "stream": "stdout",
       "text": [
        " 2187 64 5 2830.6\n",
        "9"
       ]
      },
      {
       "output_type": "stream",
       "stream": "stdout",
       "text": [
        " 2187 64 11 11690.8947368\n",
        "9"
       ]
      },
      {
       "output_type": "stream",
       "stream": "stdout",
       "text": [
        " 2187 64 25 10468.0231579\n",
        "9"
       ]
      },
      {
       "output_type": "stream",
       "stream": "stdout",
       "text": [
        " 2187 128 5 3752.2\n",
        "9"
       ]
      },
      {
       "output_type": "stream",
       "stream": "stdout",
       "text": [
        " 2187 128 11 12567.9090909\n",
        "9"
       ]
      },
      {
       "output_type": "stream",
       "stream": "stdout",
       "text": [
        " 2187 128 25 14442.76\n",
        "9"
       ]
      },
      {
       "output_type": "stream",
       "stream": "stdout",
       "text": [
        " 6561 32 5 2040.6\n",
        "9"
       ]
      },
      {
       "output_type": "stream",
       "stream": "stdout",
       "text": [
        " 6561 32 11 9483.21818182\n",
        "9"
       ]
      },
      {
       "output_type": "stream",
       "stream": "stdout",
       "text": [
        " 6561 32 25 12762.8709677\n",
        "9"
       ]
      },
      {
       "output_type": "stream",
       "stream": "stdout",
       "text": [
        " 6561 64 5 6162.2\n",
        "9"
       ]
      },
      {
       "output_type": "stream",
       "stream": "stdout",
       "text": [
        " 6561 64 11 17583.8421053\n",
        "9"
       ]
      },
      {
       "output_type": "stream",
       "stream": "stdout",
       "text": [
        " 6561 64 25 13781.0294737\n",
        "9"
       ]
      },
      {
       "output_type": "stream",
       "stream": "stdout",
       "text": [
        " 6561 128 5 9413.4\n",
        "9"
       ]
      },
      {
       "output_type": "stream",
       "stream": "stdout",
       "text": [
        " 6561 128 11 12243.3636364\n",
        "9"
       ]
      },
      {
       "output_type": "stream",
       "stream": "stdout",
       "text": [
        " 6561 128 25 12157.72\n",
        "9"
       ]
      },
      {
       "output_type": "stream",
       "stream": "stdout",
       "text": [
        " 19683 32 5 31312.2\n",
        "9"
       ]
      },
      {
       "output_type": "stream",
       "stream": "stdout",
       "text": [
        " 19683 32 11 32392.0545455\n",
        "9"
       ]
      },
      {
       "output_type": "stream",
       "stream": "stdout",
       "text": [
        " 19683 32 25 31186.6774194\n",
        "9"
       ]
      },
      {
       "output_type": "stream",
       "stream": "stdout",
       "text": [
        " 19683 64 5 46672.2\n",
        "9"
       ]
      },
      {
       "output_type": "stream",
       "stream": "stdout",
       "text": [
        " 19683 64 11 36543.9090909\n",
        "9"
       ]
      },
      {
       "output_type": "stream",
       "stream": "stdout",
       "text": [
        " 19683 64 25 38969.5642105\n",
        "9"
       ]
      },
      {
       "output_type": "stream",
       "stream": "stdout",
       "text": [
        " 19683 128 5 37251.4\n",
        "9"
       ]
      },
      {
       "output_type": "stream",
       "stream": "stdout",
       "text": [
        " 19683 128 11 41877.4705882\n",
        "9"
       ]
      },
      {
       "output_type": "stream",
       "stream": "stdout",
       "text": [
        " 19683 128 25 60107.08\n",
        "9"
       ]
      },
      {
       "output_type": "stream",
       "stream": "stdout",
       "text": [
        " 59049 32 5 54546.7333333\n",
        "9"
       ]
      },
      {
       "output_type": "stream",
       "stream": "stdout",
       "text": [
        " 59049 32 11 67536.0181818\n",
        "9"
       ]
      },
      {
       "output_type": "stream",
       "stream": "stdout",
       "text": [
        " 59049 32 25 58017.3225806\n",
        "9"
       ]
      },
      {
       "output_type": "stream",
       "stream": "stdout",
       "text": [
        " 59049 64 5 36695.0\n",
        "9"
       ]
      },
      {
       "output_type": "stream",
       "stream": "stdout",
       "text": [
        " 59049 64 11 34786.6363636\n",
        "9"
       ]
      },
      {
       "output_type": "stream",
       "stream": "stdout",
       "text": [
        " 59049 64 25 48257.5768421\n",
        "9"
       ]
      },
      {
       "output_type": "stream",
       "stream": "stdout",
       "text": [
        " 59049 128 5 85130.2\n",
        "9"
       ]
      },
      {
       "output_type": "stream",
       "stream": "stdout",
       "text": [
        " 59049 128 11 60107.3636364\n",
        "9"
       ]
      },
      {
       "output_type": "stream",
       "stream": "stdout",
       "text": [
        " 59049 128 25 55966.68\n"
       ]
      }
     ],
     "prompt_number": 12
    },
    {
     "cell_type": "code",
     "collapsed": false,
     "input": [],
     "language": "python",
     "metadata": {},
     "outputs": []
    }
   ],
   "metadata": {}
  }
 ]
}