{
 "metadata": {
  "name": "task4"
 },
 "nbformat": 3,
 "nbformat_minor": 0,
 "worksheets": [
  {
   "cells": [
    {
     "cell_type": "code",
     "collapsed": false,
     "input": [
      "seen = [0]*32\n",
      "k = 3\n",
      "elements = range(3**k)\n",
      "unique = len(elements) # N\n",
      "R = 0 # Maximal tail length\n",
      "for el in elements:\n",
      "    tailLength = len(bin(hash(el)).split('1')[-1])\n",
      "    if tailLength > R:\n",
      "        R = tailLength\n",
      "    if seen[31-tailLength] == 0:\n",
      "        seen[31-tailLength] = 1\n",
      "seen.pop() # Remove last element in seen\n",
      "print seen\n",
      "print 'Maximal tail length: ', R\n",
      "print 'Estimated distinct elements: ', 2**R\n",
      "print 'Real distinct elements: ', unique\n",
      "\n",
      "        \n",
      "\n"
     ],
     "language": "python",
     "metadata": {},
     "outputs": [
      {
       "output_type": "stream",
       "stream": "stdout",
       "text": [
        "[0, 0, 0, 0, 0, 0, 0, 0, 0, 0, 0, 0, 0, 0, 0, 0, 0, 0, 0, 0, 0, 0, 0, 0, 0, 0, 0, 1, 1, 1, 1]\n",
        "Maximal tail length:  4\n",
        "Estimated distinct elements:  16\n",
        "Real distinct elements:  27\n"
       ]
      }
     ],
     "prompt_number": 46
    }
   ],
   "metadata": {}
  }
 ]
}