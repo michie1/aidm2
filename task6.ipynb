{
 "metadata": {
  "name": "task6"
 },
 "nbformat": 3,
 "nbformat_minor": 0,
 "worksheets": [
  {
   "cells": [
    {
     "cell_type": "code",
     "collapsed": false,
     "input": [
      "import numpy"
     ],
     "language": "python",
     "metadata": {},
     "outputs": [],
     "prompt_number": 1
    },
    {
     "cell_type": "code",
     "collapsed": false,
     "input": [
      "# With deadnodes and taxation\n",
      "\n",
      "def deadnodes(m):\n",
      "    mb = m.copy()\n",
      "    de = []    \n",
      "    for c in range(len(mb)):\n",
      "        if sum(mb[:, c]) == 0:\n",
      "            if sum(mb[c]) != 0:\n",
      "                mb[c] = 0\n",
      "                de.append(c)\n",
      "                break\n",
      "    \n",
      "    if de:\n",
      "        dn = deadnodes(mb)\n",
      "        if dn:\n",
      "            de.append(*dn)\n",
      "    \n",
      "    return de\n",
      "\n",
      "def pr(edges, beta, k):\n",
      "    n = max(map(max, *edges)) + 1 # Amount of nodes\n",
      "    m = numpy.zeros(shape=(n, n))\n",
      "    v = [1.0/n] * n\n",
      "    # From edges to matrix\n",
      "    for i in range(n): # For every column\n",
      "        for j in range(n): # For every row\n",
      "            if (i, j) in edges:\n",
      "                m[j][i] = 1\n",
      "    \n",
      "    # Identify dead nodes\n",
      "    dn = deadnodes(m)\n",
      "    \n",
      "    # Remove dead nodes to get scc graph\n",
      "    scc = m.copy()\n",
      "    scc = numpy.delete(numpy.delete(scc, dn, 0), dn, 1)\n",
      "    nscc = len(scc)\n",
      "    vscc = [1.0/nscc] * nscc\n",
      "    \n",
      "    # Calculate pagerank of scc\n",
      "    for i in range(nscc): # For every column\n",
      "        if sum(scc[:, i]) != 0:\n",
      "            scc[:, i] = scc[:, i] / sum(scc[:, i])\n",
      "\n",
      "            # I'm not sure how to implement taxation with spider traps avoidance\n",
      "            #pr = numpy.dot(numpy.linalg.matrix_power(scc, k), vscc) # (scc^k)vss \n",
      "            pr = scc\n",
      "            for index in range(k - 1):\n",
      "                #pr = numpy.dot(scc, pr)\n",
      "                pr = numpy.dot(beta * scc, pr) + (1 - beta) * numpy.transpose(vscc)\n",
      "            pr = numpy.dot(pr, vscc)        \n",
      " \n",
      "    # Insert zero pagerank for dead nodes\n",
      "    for z in sorted(dn):\n",
      "       pr = numpy.insert(pr, z, 0)  \n",
      "    \n",
      "    # Calculate pagerank for dead nodes\n",
      "    for z in dn[::-1]: # Reversed order\n",
      "        #print 'z', z\n",
      "        y = 0\n",
      "        for x in range(n):\n",
      "            if m[z][x] == 1:\n",
      "                y += pr[x]/sum(m[:, x])\n",
      "        pr[z] = y\n",
      "            \n",
      "    return [(x, pr[x]) for x in range(n)] # Tuples  \n",
      "\n",
      "\"\"\"\n",
      "0 = alpha\n",
      "1 = beta\n",
      "2 = delta\n",
      "3 = gamma\n",
      "4 = rho\n",
      "5 = sigma\n",
      "\"\"\"\n",
      "pr([(0, 1), (0, 5), (1, 2), (1, 3), (2, 0), (3, 2), (3, 4), (3, 5), (5, 0)], 0.85, 100)\n",
      "#print pr([(0, 1), (0, 5), (1, 2), (1, 3), (2, 0), (3, 2), (3, 4), (3, 5), (5, 0)], 0.5, 100)"
     ],
     "language": "python",
     "metadata": {},
     "outputs": [
      {
       "output_type": "pyout",
       "prompt_number": 24,
       "text": [
        "[(0, 0.34597808993960866),\n",
        " (1, 0.17704068822433366),\n",
        " (2, 0.14997026680586209),\n",
        " (3, 0.10524229249534181),\n",
        " (4, 0.035080764165113937),\n",
        " (5, 0.22176866253485392)]"
       ]
      }
     ],
     "prompt_number": 24
    },
    {
     "cell_type": "code",
     "collapsed": false,
     "input": [
      "[(0, 0.36363636363630014),\n",
      " (1, 0.18181818181822296),\n",
      " (2, 0.13636363636362697),\n",
      " (3, 0.090909090909064252),\n",
      " (4, 0.030303030303021419),\n",
      " (5, 0.22727272727278572)]"
     ],
     "language": "python",
     "metadata": {},
     "outputs": []
    }
   ],
   "metadata": {}
  }
 ]
}